{
 "cells": [
  {
   "cell_type": "markdown",
   "metadata": {},
   "source": [
    "##### Importing libraries and data"
   ]
  },
  {
   "cell_type": "code",
   "execution_count": 142,
   "metadata": {
    "collapsed": false
   },
   "outputs": [],
   "source": [
    "library(data.table)\n",
    "library(randomForest)\n",
    "library(corrplot)\n",
    "load(\"../projetdatascience.rda\")"
   ]
  },
  {
   "cell_type": "code",
   "execution_count": 143,
   "metadata": {
    "collapsed": false
   },
   "outputs": [],
   "source": [
    "projetValid$target = NA #adding column target to rbind the train and the valid subset"
   ]
  },
  {
   "cell_type": "code",
   "execution_count": 144,
   "metadata": {
    "collapsed": true
   },
   "outputs": [],
   "source": [
    "projetTrain = rbind(projetTrain,projetValid)"
   ]
  },
  {
   "cell_type": "markdown",
   "metadata": {},
   "source": [
    "##### getting the emptiness ratio and number of factors foreach column and save the information in dataframe"
   ]
  },
  {
   "cell_type": "code",
   "execution_count": 145,
   "metadata": {
    "collapsed": true
   },
   "outputs": [],
   "source": [
    "vec_names         = names(projetTrain)\n",
    "nb_lignes         = nrow(projetTrain)\n",
    "vec_taux          = rep(0,length(vec_names))\n",
    "vec_factors       = rep(0,length(vec_names))\n",
    "index             = 1\n",
    "data.informations = data.table(\n",
    "                         feature=vec_names, \n",
    "                         taux=vec_taux,\n",
    "                         factors=vec_factors\n",
    "                        )\n",
    "\n",
    "\n",
    "for(name in data.informations$feature){\n",
    "    data.informations[index,  taux := (sum( is.na(projetTrain[,name, with=FALSE])) / nb_lignes)*100] \n",
    "    data.informations[index,factors:= length(table(projetTrain[,name, with=FALSE]))]\n",
    "    index=index+1\n",
    "}"
   ]
  },
  {
   "cell_type": "markdown",
   "metadata": {},
   "source": [
    "##### showing the emptiness ratio (>0) of columns"
   ]
  },
  {
   "cell_type": "code",
   "execution_count": 146,
   "metadata": {
    "collapsed": false
   },
   "outputs": [
    {
     "data": {
      "text/html": [
       "<table>\n",
       "<thead><tr><th></th><th scope=col>feature</th><th scope=col>taux</th><th scope=col>factors</th></tr></thead>\n",
       "<tbody>\n",
       "\t<tr><th scope=row>1</th><td>Employment_Info_1 </td><td>0.0319967666425288</td><td>1936              </td></tr>\n",
       "\t<tr><th scope=row>2</th><td>Employment_Info_4</td><td>11.4161095299843 </td><td>871              </td></tr>\n",
       "\t<tr><th scope=row>3</th><td>Employment_Info_6</td><td>18.278573954632  </td><td>992              </td></tr>\n",
       "\t<tr><th scope=row>4</th><td>Insurance_History_5</td><td>42.7678887186137   </td><td>2265               </td></tr>\n",
       "\t<tr><th scope=row>5</th><td>Family_Hist_2   </td><td>48.2578602583318</td><td>68              </td></tr>\n",
       "\t<tr><th scope=row>6</th><td>Family_Hist_3   </td><td>57.6632256108856</td><td>90              </td></tr>\n",
       "\t<tr><th scope=row>7</th><td>Family_Hist_4   </td><td>32.3066300668564</td><td>68              </td></tr>\n",
       "\t<tr><th scope=row>8</th><td>Family_Hist_5   </td><td>70.4114110574089</td><td>90              </td></tr>\n",
       "\t<tr><th scope=row>9</th><td>Medical_History_1</td><td>14.9694346676546 </td><td>171              </td></tr>\n",
       "\t<tr><th scope=row>10</th><td>Medical_History_10</td><td>99.061989525269   </td><td>103               </td></tr>\n",
       "\t<tr><th scope=row>11</th><td>Medical_History_15</td><td>75.1014634310638  </td><td>241               </td></tr>\n",
       "\t<tr><th scope=row>12</th><td>Medical_History_24</td><td>93.5989626311446  </td><td>227               </td></tr>\n",
       "\t<tr><th scope=row>13</th><td>Medical_History_32</td><td>98.1357673329853  </td><td>95                </td></tr>\n",
       "\t<tr><th scope=row>14</th><td>target          </td><td>13.4723227968542</td><td>2               </td></tr>\n",
       "</tbody>\n",
       "</table>\n"
      ],
      "text/latex": [
       "\\begin{tabular}{r|lll}\n",
       "  & feature & taux & factors\\\\\n",
       "\\hline\n",
       "\t1 & Employment\\_Info\\_1 & 0.0319967666425288    & 1936                 \\\\\n",
       "\t2 & Employment\\_Info\\_4 & 11.4161095299843      & 871                  \\\\\n",
       "\t3 & Employment\\_Info\\_6 & 18.278573954632       & 992                  \\\\\n",
       "\t4 & Insurance\\_History\\_5 & 42.7678887186137        & 2265                   \\\\\n",
       "\t5 & Family\\_Hist\\_2 & 48.2578602583318  & 68               \\\\\n",
       "\t6 & Family\\_Hist\\_3 & 57.6632256108856  & 90               \\\\\n",
       "\t7 & Family\\_Hist\\_4 & 32.3066300668564  & 68               \\\\\n",
       "\t8 & Family\\_Hist\\_5 & 70.4114110574089  & 90               \\\\\n",
       "\t9 & Medical\\_History\\_1 & 14.9694346676546      & 171                  \\\\\n",
       "\t10 & Medical\\_History\\_10 & 99.061989525269        & 103                   \\\\\n",
       "\t11 & Medical\\_History\\_15 & 75.1014634310638       & 241                   \\\\\n",
       "\t12 & Medical\\_History\\_24 & 93.5989626311446       & 227                   \\\\\n",
       "\t13 & Medical\\_History\\_32 & 98.1357673329853       & 95                    \\\\\n",
       "\t14 & target           & 13.4723227968542 & 2               \\\\\n",
       "\\end{tabular}\n"
      ],
      "text/plain": [
       "               feature        taux factors\n",
       "1    Employment_Info_1  0.03199677    1936\n",
       "2    Employment_Info_4 11.41610953     871\n",
       "3    Employment_Info_6 18.27857395     992\n",
       "4  Insurance_History_5 42.76788872    2265\n",
       "5        Family_Hist_2 48.25786026      68\n",
       "6        Family_Hist_3 57.66322561      90\n",
       "7        Family_Hist_4 32.30663007      68\n",
       "8        Family_Hist_5 70.41141106      90\n",
       "9    Medical_History_1 14.96943467     171\n",
       "10  Medical_History_10 99.06198953     103\n",
       "11  Medical_History_15 75.10146343     241\n",
       "12  Medical_History_24 93.59896263     227\n",
       "13  Medical_History_32 98.13576733      95\n",
       "14              target 13.47232280       2"
      ]
     },
     "metadata": {},
     "output_type": "display_data"
    }
   ],
   "source": [
    "data.informations[taux>0]"
   ]
  },
  {
   "cell_type": "markdown",
   "metadata": {},
   "source": [
    "##### saving in vectors the columns to factorise"
   ]
  },
  {
   "cell_type": "code",
   "execution_count": 147,
   "metadata": {
    "collapsed": true
   },
   "outputs": [],
   "source": [
    "columnsToFactor = data.informations[factors<10]$feature"
   ]
  },
  {
   "cell_type": "code",
   "execution_count": 148,
   "metadata": {
    "collapsed": true
   },
   "outputs": [],
   "source": [
    "projetTrain = projetTrain[,target:=ifelse(target==1,\"OK\",\"KO\")] # transforming target from 1 0 to OK and KO"
   ]
  },
  {
   "cell_type": "markdown",
   "metadata": {},
   "source": [
    "##### factorisation of columns that contains less than 10 unique values"
   ]
  },
  {
   "cell_type": "code",
   "execution_count": 149,
   "metadata": {
    "collapsed": true
   },
   "outputs": [],
   "source": [
    "for (feature in columnsToFactor) {    \n",
    "    projetTrain[,feature:=as.factor(get(feature)),with=FALSE]\n",
    "}\n",
    "projetTrain$Product_Info_2 = as.factor(projetTrain$Product_Info_2)"
   ]
  },
  {
   "cell_type": "markdown",
   "metadata": {},
   "source": [
    "##### filling NA values"
   ]
  },
  {
   "cell_type": "code",
   "execution_count": 150,
   "metadata": {
    "collapsed": true
   },
   "outputs": [],
   "source": [
    "projetTrain = na.roughfix(projetTrain)"
   ]
  },
  {
   "cell_type": "markdown",
   "metadata": {},
   "source": [
    "##### creating columns "
   ]
  },
  {
   "cell_type": "markdown",
   "metadata": {},
   "source": [
    "* split the column prodcut info 2 in columns to isolate the letter and the level wheter it's A B C or 1 2 3 etc .. \n",
    "* creates columns where there will be the log, the x², the exp of the numerical columns existing in the dataset\n",
    "* multiplication of columns that works well together but before, we should check if they work well together. \n"
   ]
  },
  {
   "cell_type": "markdown",
   "metadata": {},
   "source": [
    "##### This operations splits the alphabetical from the numerical information contained in product_info_2"
   ]
  },
  {
   "cell_type": "code",
   "execution_count": null,
   "metadata": {
    "collapsed": false
   },
   "outputs": [],
   "source": [
    "projetTrain[,Product_Info_2_Quali  := gsub(\"[0-9]\",\"\",Product_Info_2)]\n",
    "projetTrain[,Product_Info_2_Quanti := gsub(\"[A-Z]\",\"\",Product_Info_2)]"
   ]
  },
  {
   "cell_type": "code",
   "execution_count": 152,
   "metadata": {
    "collapsed": true
   },
   "outputs": [],
   "source": [
    "projetTrain$Product_Info_2_Quali  = as.factor(projetTrain$Product_Info_2_Quali)\n",
    "projetTrain$Product_Info_2_Quanti = as.integer(projetTrain$Product_Info_2_Quanti) "
   ]
  },
  {
   "cell_type": "markdown",
   "metadata": {},
   "source": [
    "##### we're gonna save this dataset as a \"basic\" dataset to use for the machine learning"
   ]
  },
  {
   "cell_type": "code",
   "execution_count": 153,
   "metadata": {
    "collapsed": true
   },
   "outputs": [],
   "source": [
    "projetTrain.base = projetTrain"
   ]
  },
  {
   "cell_type": "markdown",
   "metadata": {},
   "source": [
    "##### getting the information for each column if it's factor, num or int in our df \"data.informations\""
   ]
  },
  {
   "cell_type": "code",
   "execution_count": 154,
   "metadata": {
    "collapsed": true
   },
   "outputs": [],
   "source": [
    "index = 1\n",
    "for(name in data.informations$feature){\n",
    "    data.informations[index,class := class(as.data.frame(projetTrain[,name,with=FALSE])[,name])]\n",
    "    index=index+1\n",
    "}"
   ]
  },
  {
   "cell_type": "markdown",
   "metadata": {},
   "source": [
    "##### the following step will create 3 columns that will take numerical columns as arguments, and apply a x², and exp"
   ]
  },
  {
   "cell_type": "markdown",
   "metadata": {},
   "source": [
    "we'll take the columns following this conditions :\n",
    "* class numeric and integer\n",
    "* make sure we don't use the columns that have 17% of NA values\n",
    "* and drop the ID column"
   ]
  },
  {
   "cell_type": "code",
   "execution_count": 124,
   "metadata": {
    "collapsed": true
   },
   "outputs": [],
   "source": [
    "'%!in%' <- function(x,y)!('%in%'(x,y)) #CREATING NOT IN OPERATOR THAT RETURNS MASK \n",
    "\n",
    "numeric.columns         = data.informations[class==\"numeric\"]$feature\n",
    "integer.columns         = data.informations[class==\"integer\"]$feature\n",
    "todrop.columns          = c(\"Id\",data.informations[taux > 17]$feature)\n",
    "\n",
    "aggr.columns            = c(numeric.columns,integer.columns)\n",
    "mask.of.columns.to.drop = aggr.columns %!in% todrop.columns #columns that are not in todrop.columns\n",
    "final.columns           = aggr.columns[mask.of.columns.to.drop]"
   ]
  },
  {
   "cell_type": "markdown",
   "metadata": {
    "collapsed": false
   },
   "source": [
    "##### create the x²,and exp foreach column that is in final.columns"
   ]
  },
  {
   "cell_type": "code",
   "execution_count": 126,
   "metadata": {
    "collapsed": true
   },
   "outputs": [],
   "source": [
    "for(column in final.columns){\n",
    "    projetTrain[,paste0(column,\"_log\") := log(get(column))]\n",
    "    projetTrain[,paste0(column,\"_²\")   := get(column)^get(column)]\n",
    "    projetTrain[,paste0(column,\"exp\")  := exp(get(column))]\n",
    "}"
   ]
  },
  {
   "cell_type": "markdown",
   "metadata": {},
   "source": [
    "##### checking the correlation between the numerical and integers columns"
   ]
  },
  {
   "cell_type": "code",
   "execution_count": 127,
   "metadata": {
    "collapsed": false
   },
   "outputs": [
    {
     "data": {
      "image/png": "[encoded data removed]",
      "text/plain": [
       "Plot with title \"\""
      ]
     },
     "metadata": {},
     "output_type": "display_data"
    }
   ],
   "source": [
    "M = cor(projetTrain[,final.columns,with=FALSE])\n",
    "corrplot(M, method = \"circle\")"
   ]
  },
  {
   "cell_type": "markdown",
   "metadata": {},
   "source": [
    "##### now we're gonna create well correlated (>0.18) columns by multiplying or dividing values between them "
   ]
  },
  {
   "cell_type": "code",
   "execution_count": 128,
   "metadata": {
    "collapsed": false
   },
   "outputs": [
    {
     "name": "stdout",
     "output_type": "stream",
     "text": [
      "[1] \"Product_Info_4 Ins_Age COEF CORR : -0.26135598438449\"\n",
      "[1] \"Product_Info_4 Employment_Info_1 COEF CORR : 0.350920626255596\"\n",
      "[1] \"Ins_Age Employment_Info_2 COEF CORR : -0.188085945328153\"\n",
      "[1] \"Ht Employment_Info_1 COEF CORR : 0.200462753627692\"\n",
      "[1] \"Ht Product_Info_3 COEF CORR : 0.293546375794411\"\n",
      "[1] \"Wt Product_Info_3 COEF CORR : 0.213546002814789\"\n",
      "[1] \"Product_Info_3 Employment_Info_2 COEF CORR : 0.191770726317291\"\n"
     ]
    }
   ],
   "source": [
    "starting.point = 2 \n",
    "\n",
    "for(i in seq(1,ncol(M))){\n",
    "    \n",
    "    if(starting.point < 13){ #loop meant to cover just the part under the diagonal of the matrix\n",
    "        \n",
    "            for(j in seq(starting.point,nrow(M))){\n",
    "    \n",
    "            if( abs(M[i,j]) > 0.18 ){ #if the correlation is above |0.18| we'll create a column that will multiply the correlated ones, and divide them by the correlation coefficient\n",
    "                name.of.col.first  = final.columns[i]\n",
    "                name.of.col.second = final.columns[j]\n",
    "                coef.corr          = M[i,j]\n",
    "                \n",
    "                if( !(name.of.col.first ==\"Ht\" && name.of.col.second==\"Wt\" ) &&\n",
    "                    !(name.of.col.first==\"Wt\" && name.of.col.second==\"BMI\") ){ # We don't consider the relation between WT and BMI and Ht and Wt\n",
    "                    \n",
    "                    print(paste(name.of.col.first,name.of.col.second,\"COEF CORR :\",M[i,j]))\n",
    "                    \n",
    "                    first.vec        = projetTrain[,name.of.col.first,with=FALSE]\n",
    "                    second.vec       = projetTrain[,name.of.col.second,with=FALSE]\n",
    "                    \n",
    "                    if( max(first.vec) <= 1 && max(second.vec) <= 1){\n",
    "                        projetTrain[,paste0(name.of.col.first,\"_\",name.of.col.second)] = ( first.vec / second.vec ) / coef.corr\n",
    "                    }\n",
    "                    else{\n",
    "                        projetTrain[,paste0(name.of.col.first,\"_\",name.of.col.second)] = ( first.vec * second.vec ) / coef.corr\n",
    "\n",
    "                    }\n",
    "                }\n",
    "                \n",
    "            }\n",
    "        } \n",
    "        starting.point = starting.point+1\n",
    "    }\n",
    "}"
   ]
  },
  {
   "cell_type": "markdown",
   "metadata": {},
   "source": [
    "##### replacing the infinte values by NA's ... "
   ]
  },
  {
   "cell_type": "code",
   "execution_count": 130,
   "metadata": {
    "collapsed": true
   },
   "outputs": [],
   "source": [
    "for (j in 1:ncol(projetTrain)) set(projetTrain, which(is.infinite(projetTrain[[j]])), j, NA)"
   ]
  },
  {
   "cell_type": "markdown",
   "metadata": {},
   "source": [
    "##### we're gonna drop the columns created that have too much NA values"
   ]
  },
  {
   "cell_type": "code",
   "execution_count": null,
   "metadata": {
    "collapsed": false
   },
   "outputs": [],
   "source": [
    "projetTrain$Employment_Info_4_log = NULL\n",
    "projetTrain$Medical_History_2_²   = NULL"
   ]
  },
  {
   "cell_type": "markdown",
   "metadata": {},
   "source": [
    "##### fixing the na values left "
   ]
  },
  {
   "cell_type": "code",
   "execution_count": 134,
   "metadata": {
    "collapsed": true
   },
   "outputs": [],
   "source": [
    "projetTrain = na.roughfix(projetTrain)"
   ]
  },
  {
   "cell_type": "markdown",
   "metadata": {},
   "source": [
    "##### splitting back the train and the validation test and write csv's"
   ]
  },
  {
   "cell_type": "code",
   "execution_count": 136,
   "metadata": {
    "collapsed": true
   },
   "outputs": [],
   "source": [
    "nb.rows.to.extract = nrow(projetTrain)-nrow(projetValid)"
   ]
  },
  {
   "cell_type": "code",
   "execution_count": 156,
   "metadata": {
    "collapsed": false
   },
   "outputs": [],
   "source": [
    "sub.projetTrain.base = projetTrain.base[1:nb.rows.to.extract]\n",
    "sub.projetValid.base = projetTrain.base[(nb.rows.to.extract+1):nrow(projetTrain.base)]"
   ]
  },
  {
   "cell_type": "code",
   "execution_count": 157,
   "metadata": {
    "collapsed": false
   },
   "outputs": [],
   "source": [
    "write.csv(sub.projetTrain.base, file = \"../data_processed/projetTrainBase.csv\")\n",
    "write.csv(sub.projetValid.base, file = \"../data_processed/projetValidBase.csv\")"
   ]
  },
  {
   "cell_type": "code",
   "execution_count": 139,
   "metadata": {
    "collapsed": false
   },
   "outputs": [],
   "source": [
    "sub.projetTrain = projetTrain[1:nb.rows.to.extract]\n",
    "sub.projetValid = projetTrain[(nb.rows.to.extract+1):nrow(projetTrain)]"
   ]
  },
  {
   "cell_type": "code",
   "execution_count": 140,
   "metadata": {
    "collapsed": false
   },
   "outputs": [],
   "source": [
    "write.csv(sub.projetTrain, file = \"../data_processed/projetTrainProcessed.csv\")\n",
    "write.csv(sub.projetValid, file = \"../data_processed/projetValidProcessed.csv\")"
   ]
  },
  {
   "cell_type": "markdown",
   "metadata": {},
   "source": [
    "# GOOD TO GO "
   ]
  },
  {
   "cell_type": "markdown",
   "metadata": {
    "collapsed": false
   },
   "source": [
    "#### Now we're done with the data processing, we will compare the results of the algorithms obtained with a \"basic\" data processing against this \"more advanced\" data processing "
   ]
  }
 ],
 "metadata": {
  "anaconda-cloud": {},
  "kernelspec": {
   "display_name": "R",
   "language": "R",
   "name": "ir"
  },
  "language_info": {
   "codemirror_mode": "r",
   "file_extension": ".r",
   "mimetype": "text/x-r-source",
   "name": "R",
   "pygments_lexer": "r",
   "version": "3.3.1"
  }
 },
 "nbformat": 4,
 "nbformat_minor": 1
}
