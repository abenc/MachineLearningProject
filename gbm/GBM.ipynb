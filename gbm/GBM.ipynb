{
 "cells": [
  {
   "cell_type": "code",
   "execution_count": 1,
   "metadata": {
    "collapsed": true
   },
   "outputs": [],
   "source": [
    "load(\"gbm.RData\")"
   ]
  },
  {
   "cell_type": "code",
   "execution_count": 7,
   "metadata": {
    "collapsed": false
   },
   "outputs": [
    {
     "name": "stderr",
     "output_type": "stream",
     "text": [
      "Loading required package: lattice\n",
      "Loading required package: ggplot2\n",
      "randomForest 4.6-12\n",
      "Type rfNews() to see new features/changes/bug fixes.\n",
      "\n",
      "Attaching package: 'randomForest'\n",
      "\n",
      "The following object is masked from 'package:ggplot2':\n",
      "\n",
      "    margin\n",
      "\n"
     ]
    }
   ],
   "source": [
    "library(data.table)\n",
    "library(caret)\n",
    "library(randomForest)\n",
    "load(\"projetdatascience.rda\")"
   ]
  },
  {
   "cell_type": "code",
   "execution_count": 11,
   "metadata": {
    "collapsed": false
   },
   "outputs": [
    {
     "data": {
      "text/html": [
       "<table>\n",
       "<thead><tr><th></th><th scope=col>feature</th><th scope=col>taux</th><th scope=col>factors</th></tr></thead>\n",
       "<tbody>\n",
       "\t<tr><th scope=row>1</th><td>Employment_Info_4</td><td>11.4555964266947 </td><td>787              </td></tr>\n",
       "\t<tr><th scope=row>2</th><td>Employment_Info_6</td><td>18.3336252700415 </td><td>909              </td></tr>\n",
       "\t<tr><th scope=row>3</th><td>Insurance_History_5</td><td>42.6324906093692   </td><td>2033               </td></tr>\n",
       "\t<tr><th scope=row>4</th><td>Family_Hist_2   </td><td>48.2376754053055</td><td>68              </td></tr>\n",
       "\t<tr><th scope=row>5</th><td>Family_Hist_3   </td><td>57.7372958875849</td><td>89              </td></tr>\n",
       "\t<tr><th scope=row>6</th><td>Family_Hist_4   </td><td>32.2551137580039</td><td>68              </td></tr>\n",
       "\t<tr><th scope=row>7</th><td>Family_Hist_5   </td><td>70.5104999902688</td><td>89              </td></tr>\n",
       "\t<tr><th scope=row>8</th><td>Medical_History_1</td><td>15.0133317763376 </td><td>167              </td></tr>\n",
       "\t<tr><th scope=row>9</th><td>Medical_History_10</td><td>99.0638562892898  </td><td>93                </td></tr>\n",
       "\t<tr><th scope=row>10</th><td>Medical_History_15</td><td>75.0588739028045  </td><td>241               </td></tr>\n",
       "\t<tr><th scope=row>11</th><td>Medical_History_24</td><td>93.6104785815769  </td><td>219               </td></tr>\n",
       "\t<tr><th scope=row>12</th><td>Medical_History_32</td><td>98.154960004671   </td><td>84                </td></tr>\n",
       "</tbody>\n",
       "</table>\n"
      ],
      "text/latex": [
       "\\begin{tabular}{r|lll}\n",
       "  & feature & taux & factors\\\\\n",
       "\\hline\n",
       "\t1 & Employment\\_Info\\_4 & 11.4555964266947      & 787                  \\\\\n",
       "\t2 & Employment\\_Info\\_6 & 18.3336252700415      & 909                  \\\\\n",
       "\t3 & Insurance\\_History\\_5 & 42.6324906093692        & 2033                   \\\\\n",
       "\t4 & Family\\_Hist\\_2 & 48.2376754053055  & 68               \\\\\n",
       "\t5 & Family\\_Hist\\_3 & 57.7372958875849  & 89               \\\\\n",
       "\t6 & Family\\_Hist\\_4 & 32.2551137580039  & 68               \\\\\n",
       "\t7 & Family\\_Hist\\_5 & 70.5104999902688  & 89               \\\\\n",
       "\t8 & Medical\\_History\\_1 & 15.0133317763376      & 167                  \\\\\n",
       "\t9 & Medical\\_History\\_10 & 99.0638562892898       & 93                    \\\\\n",
       "\t10 & Medical\\_History\\_15 & 75.0588739028045       & 241                   \\\\\n",
       "\t11 & Medical\\_History\\_24 & 93.6104785815769       & 219                   \\\\\n",
       "\t12 & Medical\\_History\\_32 & 98.154960004671        & 84                    \\\\\n",
       "\\end{tabular}\n"
      ],
      "text/plain": [
       "               feature     taux factors\n",
       "1    Employment_Info_4 11.45560     787\n",
       "2    Employment_Info_6 18.33363     909\n",
       "3  Insurance_History_5 42.63249    2033\n",
       "4        Family_Hist_2 48.23768      68\n",
       "5        Family_Hist_3 57.73730      89\n",
       "6        Family_Hist_4 32.25511      68\n",
       "7        Family_Hist_5 70.51050      89\n",
       "8    Medical_History_1 15.01333     167\n",
       "9   Medical_History_10 99.06386      93\n",
       "10  Medical_History_15 75.05887     241\n",
       "11  Medical_History_24 93.61048     219\n",
       "12  Medical_History_32 98.15496      84"
      ]
     },
     "metadata": {},
     "output_type": "display_data"
    },
    {
     "name": "stdout",
     "output_type": "stream",
     "text": [
      "                feature       taux factors\n",
      " 1:   Employment_Info_1  0.0350324    1767\n",
      " 2:   Employment_Info_4 11.4555964     787\n",
      " 3:   Employment_Info_6 18.3336253     909\n",
      " 4: Insurance_History_5 42.6324906    2033\n",
      " 5:       Family_Hist_2 48.2376754      68\n",
      " 6:       Family_Hist_3 57.7372959      89\n",
      " 7:       Family_Hist_4 32.2551138      68\n",
      " 8:       Family_Hist_5 70.5105000      89\n",
      " 9:   Medical_History_1 15.0133318     167\n",
      "10:  Medical_History_10 99.0638563      93\n",
      "11:  Medical_History_15 75.0588739     241\n",
      "12:  Medical_History_24 93.6104786     219\n",
      "13:  Medical_History_32 98.1549600      84\n"
     ]
    }
   ],
   "source": [
    "#GETTING THE RATIO OF NA VALUE FOR EACH FEATURE and number of factors\n",
    "vec_names = names(projetTrain)\n",
    "nb_lignes = 51381\n",
    "vec_taux  = rep(0,length(vec_names))\n",
    "vec_factors = rep(0,length(vec_names))\n",
    "bene <- data.table(feature=vec_names,\n",
    "                   taux=vec_taux,\n",
    "                   factors=vec_factors)\n",
    "trainDF = as.data.frame(projetTrain)\n",
    "index = 1\n",
    "\n",
    "for(name in bene$feature){\n",
    " \n",
    "  bene[index,taux := (sum(is.na( trainDF[name] ) )  / nb_lignes)*100]\n",
    "  bene[index,factors:=length(table(trainDF[name]))]\n",
    "  index=index+1\n",
    "}\n",
    "\n",
    "bene[taux>10]\n",
    "#GETTING COLUMNS NAME THAT HAVE NA RATIO > 17 and COLUMNS THAT CAN BE FACTORISED\n",
    "columnsToFactor = bene[factors<10]$feature\n",
    "columnsToDrop  = bene[taux>17]$feature\n",
    "\n",
    "print(bene[taux>0 ])\n",
    "\n",
    "for (feature in columnsToFactor) {    \n",
    "  if(feature != \"target\"){\n",
    "    projetTrain[,feature:=as.factor(get(feature)),with=FALSE]\n",
    "  }\n",
    "}\n",
    "\n",
    "                         "
   ]
  },
  {
   "cell_type": "code",
   "execution_count": 13,
   "metadata": {
    "collapsed": true
   },
   "outputs": [],
   "source": [
    "projetTrain$Product_Info_2 = as.factor(projetTrain$Product_Info_2)"
   ]
  },
  {
   "cell_type": "code",
   "execution_count": 14,
   "metadata": {
    "collapsed": true
   },
   "outputs": [],
   "source": [
    "projetTrain$newtarget = NA\n",
    "projetTrain = projetTrain[,newtarget:=ifelse(target==1,\"OK\",\"KO\")]"
   ]
  },
  {
   "cell_type": "code",
   "execution_count": 15,
   "metadata": {
    "collapsed": false
   },
   "outputs": [
    {
     "name": "stderr",
     "output_type": "stream",
     "text": [
      "Warning message in alloc.col(x):\n",
      "\"Attempt to reduce allocation from 193 to 192 ignored. Can only increase allocation via shallow copy.\""
     ]
    }
   ],
   "source": [
    "projetTrain$target = NULL"
   ]
  },
  {
   "cell_type": "code",
   "execution_count": 16,
   "metadata": {
    "collapsed": true
   },
   "outputs": [],
   "source": [
    "projetTrain$newtarget = as.factor(projetTrain$newtarget)"
   ]
  },
  {
   "cell_type": "code",
   "execution_count": 17,
   "metadata": {
    "collapsed": true
   },
   "outputs": [],
   "source": [
    "projetTrain = na.roughfix(projetTrain)"
   ]
  },
  {
   "cell_type": "code",
   "execution_count": 8,
   "metadata": {
    "collapsed": false
   },
   "outputs": [],
   "source": [
    "trctrl = trainControl(\n",
    "                     method = 'repeatedcv',\n",
    "                     number = 3,\n",
    "                     returnResamp='none',\n",
    "                     summaryFunction = twoClassSummary,\n",
    "                     allowParallel = TRUE,\n",
    "                     classProbs = TRUE\n",
    "                     )"
   ]
  },
  {
   "cell_type": "code",
   "execution_count": 9,
   "metadata": {
    "collapsed": false
   },
   "outputs": [],
   "source": [
    "grid = expand.grid(\n",
    "                  n.trees=c(1000,250),\n",
    "                  interaction.depth = 4,\n",
    "                  shrinkage = 0.1,\n",
    "                  n.minobsinnode = 10\n",
    "                  )"
   ]
  },
  {
   "cell_type": "code",
   "execution_count": 13,
   "metadata": {
    "collapsed": false
   },
   "outputs": [
    {
     "data": {
      "text/html": [
       "<table>\n",
       "<thead><tr><th></th><th scope=col>n.trees</th><th scope=col>interaction.depth</th><th scope=col>shrinkage</th><th scope=col>n.minobsinnode</th></tr></thead>\n",
       "<tbody>\n",
       "\t<tr><th scope=row>1</th><td>1e+03</td><td>4e+00</td><td>1e-01</td><td>1e+01</td></tr>\n",
       "\t<tr><th scope=row>2</th><td>250.0</td><td>  4.0</td><td>  0.1</td><td> 10.0</td></tr>\n",
       "</tbody>\n",
       "</table>\n"
      ],
      "text/latex": [
       "\\begin{tabular}{r|llll}\n",
       "  & n.trees & interaction.depth & shrinkage & n.minobsinnode\\\\\n",
       "\\hline\n",
       "\t1 & 1e+03 & 4e+00 & 1e-01 & 1e+01\\\\\n",
       "\t2 & 250.0 &   4.0 &   0.1 &  10.0\\\\\n",
       "\\end{tabular}\n"
      ],
      "text/plain": [
       "  n.trees interaction.depth shrinkage n.minobsinnode\n",
       "1    1000                 4       0.1             10\n",
       "2     250                 4       0.1             10"
      ]
     },
     "metadata": {},
     "output_type": "display_data"
    }
   ],
   "source": [
    "grid"
   ]
  },
  {
   "cell_type": "code",
   "execution_count": 10,
   "metadata": {
    "collapsed": false
   },
   "outputs": [
    {
     "name": "stderr",
     "output_type": "stream",
     "text": [
      "Loading required package: gbm\n",
      "Warning message:\n",
      "\"package 'gbm' was built under R version 3.3.2\"Loading required package: survival\n",
      "Warning message:\n",
      "\"package 'survival' was built under R version 3.3.2\"\n",
      "Attaching package: 'survival'\n",
      "\n",
      "The following object is masked from 'package:caret':\n",
      "\n",
      "    cluster\n",
      "\n",
      "Loading required package: splines\n",
      "Loading required package: parallel\n",
      "Loaded gbm 2.1.1\n",
      "Loading required package: plyr\n",
      "Warning message in gbm.fit(x = structure(c(2, 7, 8, 11, 14, 15, 18, 19, 20, 22, :\n",
      "\"variable 85: Medical_History_132 has no variation.\"Warning message in gbm.fit(x = structure(c(2, 7, 8, 11, 14, 15, 18, 19, 20, 22, :\n",
      "\"variable 117: Medical_History_312 has no variation.\"Warning message in gbm.fit(x = structure(c(2, 7, 8, 11, 14, 15, 18, 19, 20, 22, :\n",
      "\"variable 123: Medical_History_352 has no variation.\"Warning message in gbm.fit(x = structure(c(2, 7, 8, 11, 14, 15, 18, 19, 20, 22, :\n",
      "\"variable 130: Medical_History_392 has no variation.\""
     ]
    },
    {
     "name": "stdout",
     "output_type": "stream",
     "text": [
      "Iter   TrainDeviance   ValidDeviance   StepSize   Improve\n",
      "     1        1.1999             nan     0.1000    0.0332\n",
      "     2        1.1477             nan     0.1000    0.0261\n",
      "     3        1.1001             nan     0.1000    0.0241\n",
      "     4        1.0632             nan     0.1000    0.0180\n",
      "     5        1.0267             nan     0.1000    0.0184\n",
      "     6        0.9964             nan     0.1000    0.0149\n",
      "     7        0.9728             nan     0.1000    0.0116\n",
      "     8        0.9487             nan     0.1000    0.0119\n",
      "     9        0.9326             nan     0.1000    0.0080\n",
      "    10        0.9152             nan     0.1000    0.0086\n",
      "    20        0.8155             nan     0.1000    0.0020\n",
      "    40        0.7481             nan     0.1000    0.0006\n",
      "    60        0.7184             nan     0.1000    0.0004\n",
      "    80        0.7007             nan     0.1000    0.0002\n",
      "   100        0.6901             nan     0.1000    0.0001\n",
      "   120        0.6820             nan     0.1000    0.0000\n",
      "   140        0.6754             nan     0.1000    0.0000\n",
      "   160        0.6694             nan     0.1000    0.0000\n",
      "   180        0.6651             nan     0.1000   -0.0000\n",
      "   200        0.6607             nan     0.1000   -0.0000\n",
      "   220        0.6559             nan     0.1000    0.0003\n",
      "   240        0.6527             nan     0.1000   -0.0000\n",
      "   260        0.6489             nan     0.1000   -0.0000\n",
      "   280        0.6457             nan     0.1000   -0.0001\n",
      "   300        0.6424             nan     0.1000   -0.0001\n",
      "   320        0.6392             nan     0.1000   -0.0000\n",
      "   340        0.6367             nan     0.1000   -0.0000\n",
      "   360        0.6340             nan     0.1000   -0.0001\n",
      "   380        0.6314             nan     0.1000   -0.0000\n",
      "   400        0.6286             nan     0.1000   -0.0000\n",
      "   420        0.6259             nan     0.1000   -0.0001\n",
      "   440        0.6238             nan     0.1000   -0.0001\n",
      "   460        0.6212             nan     0.1000   -0.0000\n",
      "   480        0.6191             nan     0.1000   -0.0000\n",
      "   500        0.6167             nan     0.1000    0.0002\n",
      "   520        0.6145             nan     0.1000   -0.0000\n",
      "   540        0.6125             nan     0.1000   -0.0001\n",
      "   560        0.6098             nan     0.1000    0.0000\n",
      "   580        0.6079             nan     0.1000   -0.0001\n",
      "   600        0.6060             nan     0.1000    0.0000\n",
      "   620        0.6038             nan     0.1000   -0.0001\n",
      "   640        0.6016             nan     0.1000   -0.0000\n",
      "   660        0.5998             nan     0.1000   -0.0001\n",
      "   680        0.5980             nan     0.1000   -0.0001\n",
      "   700        0.5962             nan     0.1000   -0.0000\n",
      "   720        0.5941             nan     0.1000   -0.0000\n",
      "   740        0.5920             nan     0.1000   -0.0000\n",
      "   760        0.5900             nan     0.1000   -0.0001\n",
      "   780        0.5878             nan     0.1000   -0.0000\n",
      "   800        0.5855             nan     0.1000   -0.0000\n",
      "   820        0.5835             nan     0.1000   -0.0000\n",
      "   840        0.5819             nan     0.1000   -0.0001\n",
      "   860        0.5802             nan     0.1000   -0.0001\n",
      "   880        0.5783             nan     0.1000   -0.0000\n",
      "   900        0.5765             nan     0.1000   -0.0001\n",
      "   920        0.5747             nan     0.1000   -0.0001\n",
      "   940        0.5732             nan     0.1000   -0.0001\n",
      "   960        0.5714             nan     0.1000   -0.0001\n",
      "   980        0.5700             nan     0.1000   -0.0000\n",
      "  1000        0.5684             nan     0.1000   -0.0001\n",
      "\n"
     ]
    },
    {
     "name": "stderr",
     "output_type": "stream",
     "text": [
      "Warning message in gbm.fit(x = structure(c(5, 6, 7, 8, 14, 15, 16, 23, 26, 29, 31, :\n",
      "\"variable 25: Product_Info_72 has no variation.\"Warning message in gbm.fit(x = structure(c(5, 6, 7, 8, 14, 15, 16, 23, 26, 29, 31, :\n",
      "\"variable 46: Insurance_History_22 has no variation.\"Warning message in gbm.fit(x = structure(c(5, 6, 7, 8, 14, 15, 16, 23, 26, 29, 31, :\n",
      "\"variable 48: Insurance_History_32 has no variation.\"Warning message in gbm.fit(x = structure(c(5, 6, 7, 8, 14, 15, 16, 23, 26, 29, 31, :\n",
      "\"variable 102: Medical_History_232 has no variation.\""
     ]
    },
    {
     "name": "stdout",
     "output_type": "stream",
     "text": [
      "Iter   TrainDeviance   ValidDeviance   StepSize   Improve\n",
      "     1        1.1977             nan     0.1000    0.0338\n",
      "     2        1.1431             nan     0.1000    0.0276\n",
      "     3        1.0962             nan     0.1000    0.0235\n",
      "     4        1.0596             nan     0.1000    0.0184\n",
      "     5        1.0233             nan     0.1000    0.0177\n",
      "     6        0.9927             nan     0.1000    0.0147\n",
      "     7        0.9695             nan     0.1000    0.0117\n",
      "     8        0.9500             nan     0.1000    0.0097\n",
      "     9        0.9336             nan     0.1000    0.0082\n",
      "    10        0.9198             nan     0.1000    0.0067\n",
      "    20        0.8163             nan     0.1000    0.0033\n",
      "    40        0.7497             nan     0.1000    0.0011\n",
      "    60        0.7181             nan     0.1000    0.0004\n",
      "    80        0.7019             nan     0.1000    0.0001\n",
      "   100        0.6905             nan     0.1000    0.0001\n",
      "   120        0.6820             nan     0.1000    0.0001\n",
      "   140        0.6745             nan     0.1000    0.0000\n",
      "   160        0.6696             nan     0.1000    0.0000\n",
      "   180        0.6643             nan     0.1000    0.0001\n",
      "   200        0.6602             nan     0.1000   -0.0000\n",
      "   220        0.6570             nan     0.1000   -0.0000\n",
      "   240        0.6533             nan     0.1000    0.0000\n",
      "   260        0.6493             nan     0.1000   -0.0000\n",
      "   280        0.6463             nan     0.1000   -0.0001\n",
      "   300        0.6434             nan     0.1000   -0.0000\n",
      "   320        0.6406             nan     0.1000   -0.0000\n",
      "   340        0.6377             nan     0.1000   -0.0000\n",
      "   360        0.6353             nan     0.1000    0.0000\n",
      "   380        0.6327             nan     0.1000   -0.0001\n",
      "   400        0.6301             nan     0.1000   -0.0000\n",
      "   420        0.6272             nan     0.1000   -0.0000\n",
      "   440        0.6246             nan     0.1000   -0.0000\n",
      "   460        0.6223             nan     0.1000   -0.0000\n",
      "   480        0.6199             nan     0.1000   -0.0000\n",
      "   500        0.6173             nan     0.1000   -0.0000\n",
      "   520        0.6151             nan     0.1000   -0.0000\n",
      "   540        0.6130             nan     0.1000   -0.0001\n",
      "   560        0.6108             nan     0.1000   -0.0000\n",
      "   580        0.6087             nan     0.1000    0.0000\n",
      "   600        0.6069             nan     0.1000   -0.0000\n",
      "   620        0.6051             nan     0.1000   -0.0000\n",
      "   640        0.6029             nan     0.1000   -0.0000\n",
      "   660        0.6007             nan     0.1000   -0.0001\n",
      "   680        0.5987             nan     0.1000   -0.0001\n",
      "   700        0.5966             nan     0.1000   -0.0000\n",
      "   720        0.5946             nan     0.1000   -0.0000\n",
      "   740        0.5925             nan     0.1000   -0.0000\n",
      "   760        0.5907             nan     0.1000   -0.0001\n",
      "   780        0.5888             nan     0.1000   -0.0001\n",
      "   800        0.5873             nan     0.1000   -0.0000\n",
      "   820        0.5854             nan     0.1000   -0.0000\n",
      "   840        0.5836             nan     0.1000   -0.0000\n",
      "   860        0.5817             nan     0.1000   -0.0001\n",
      "   880        0.5801             nan     0.1000    0.0000\n",
      "   900        0.5781             nan     0.1000   -0.0000\n",
      "   920        0.5765             nan     0.1000   -0.0001\n",
      "   940        0.5748             nan     0.1000   -0.0000\n",
      "   960        0.5732             nan     0.1000   -0.0001\n",
      "   980        0.5714             nan     0.1000   -0.0000\n",
      "  1000        0.5699             nan     0.1000   -0.0000\n",
      "\n"
     ]
    },
    {
     "name": "stderr",
     "output_type": "stream",
     "text": [
      "Warning message in gbm.fit(x = structure(c(2, 5, 6, 11, 16, 18, 19, 20, 22, 24, :\n",
      "\"variable 90: Medical_History_162 has no variation.\"Warning message in gbm.fit(x = structure(c(2, 5, 6, 11, 16, 18, 19, 20, 22, 24, :\n",
      "\"variable 134: Medical_History_412 has no variation.\""
     ]
    },
    {
     "name": "stdout",
     "output_type": "stream",
     "text": [
      "Iter   TrainDeviance   ValidDeviance   StepSize   Improve\n",
      "     1        1.2015             nan     0.1000    0.0321\n",
      "     2        1.1459             nan     0.1000    0.0274\n",
      "     3        1.0995             nan     0.1000    0.0230\n",
      "     4        1.0588             nan     0.1000    0.0205\n",
      "     5        1.0264             nan     0.1000    0.0162\n",
      "     6        0.9990             nan     0.1000    0.0135\n",
      "     7        0.9766             nan     0.1000    0.0112\n",
      "     8        0.9561             nan     0.1000    0.0101\n",
      "     9        0.9348             nan     0.1000    0.0104\n",
      "    10        0.9153             nan     0.1000    0.0097\n",
      "    20        0.8243             nan     0.1000    0.0021\n",
      "    40        0.7539             nan     0.1000    0.0007\n",
      "    60        0.7239             nan     0.1000    0.0004\n",
      "    80        0.7070             nan     0.1000    0.0001\n",
      "   100        0.6966             nan     0.1000    0.0002\n",
      "   120        0.6875             nan     0.1000    0.0000\n",
      "   140        0.6808             nan     0.1000    0.0000\n",
      "   160        0.6748             nan     0.1000    0.0000\n",
      "   180        0.6693             nan     0.1000    0.0000\n",
      "   200        0.6646             nan     0.1000    0.0001\n",
      "   220        0.6605             nan     0.1000   -0.0000\n",
      "   240        0.6568             nan     0.1000    0.0000\n",
      "   260        0.6529             nan     0.1000   -0.0001\n",
      "   280        0.6498             nan     0.1000   -0.0000\n",
      "   300        0.6468             nan     0.1000   -0.0000\n",
      "   320        0.6441             nan     0.1000   -0.0000\n",
      "   340        0.6410             nan     0.1000   -0.0001\n",
      "   360        0.6381             nan     0.1000   -0.0001\n",
      "   380        0.6352             nan     0.1000   -0.0001\n",
      "   400        0.6327             nan     0.1000   -0.0000\n",
      "   420        0.6303             nan     0.1000   -0.0000\n",
      "   440        0.6274             nan     0.1000   -0.0000\n",
      "   460        0.6247             nan     0.1000    0.0000\n",
      "   480        0.6225             nan     0.1000   -0.0000\n",
      "   500        0.6203             nan     0.1000   -0.0000\n",
      "   520        0.6180             nan     0.1000    0.0000\n",
      "   540        0.6159             nan     0.1000   -0.0000\n",
      "   560        0.6137             nan     0.1000    0.0000\n",
      "   580        0.6116             nan     0.1000   -0.0000\n",
      "   600        0.6089             nan     0.1000   -0.0000\n",
      "   620        0.6064             nan     0.1000   -0.0001\n",
      "   640        0.6042             nan     0.1000   -0.0001\n",
      "   660        0.6023             nan     0.1000   -0.0001\n",
      "   680        0.6003             nan     0.1000   -0.0000\n",
      "   700        0.5985             nan     0.1000   -0.0000\n",
      "   720        0.5968             nan     0.1000   -0.0001\n",
      "   740        0.5947             nan     0.1000   -0.0000\n",
      "   760        0.5929             nan     0.1000   -0.0000\n",
      "   780        0.5907             nan     0.1000   -0.0000\n",
      "   800        0.5888             nan     0.1000   -0.0001\n",
      "   820        0.5870             nan     0.1000   -0.0001\n",
      "   840        0.5847             nan     0.1000   -0.0000\n",
      "   860        0.5829             nan     0.1000   -0.0000\n",
      "   880        0.5812             nan     0.1000   -0.0001\n",
      "   900        0.5798             nan     0.1000   -0.0001\n",
      "   920        0.5780             nan     0.1000   -0.0001\n",
      "   940        0.5762             nan     0.1000   -0.0001\n",
      "   960        0.5747             nan     0.1000   -0.0001\n",
      "   980        0.5732             nan     0.1000   -0.0001\n",
      "  1000        0.5713             nan     0.1000    0.0000\n",
      "\n",
      "Iter   TrainDeviance   ValidDeviance   StepSize   Improve\n",
      "     1        1.1992             nan     0.1000    0.0337\n",
      "     2        1.1465             nan     0.1000    0.0259\n",
      "     3        1.1026             nan     0.1000    0.0217\n",
      "     4        1.0649             nan     0.1000    0.0187\n",
      "     5        1.0283             nan     0.1000    0.0182\n",
      "     6        0.9979             nan     0.1000    0.0152\n",
      "     7        0.9709             nan     0.1000    0.0136\n",
      "     8        0.9512             nan     0.1000    0.0098\n",
      "     9        0.9358             nan     0.1000    0.0076\n",
      "    10        0.9176             nan     0.1000    0.0090\n",
      "    20        0.8217             nan     0.1000    0.0024\n",
      "    40        0.7526             nan     0.1000    0.0012\n",
      "    60        0.7223             nan     0.1000    0.0007\n",
      "    80        0.7043             nan     0.1000    0.0004\n",
      "   100        0.6935             nan     0.1000    0.0002\n",
      "   120        0.6854             nan     0.1000    0.0000\n",
      "   140        0.6782             nan     0.1000    0.0000\n",
      "   160        0.6731             nan     0.1000    0.0000\n",
      "   180        0.6687             nan     0.1000    0.0001\n",
      "   200        0.6638             nan     0.1000    0.0000\n",
      "   220        0.6605             nan     0.1000   -0.0000\n",
      "   240        0.6576             nan     0.1000   -0.0000\n",
      "   260        0.6544             nan     0.1000    0.0000\n",
      "   280        0.6516             nan     0.1000   -0.0000\n",
      "   300        0.6488             nan     0.1000    0.0000\n",
      "   320        0.6462             nan     0.1000   -0.0000\n",
      "   340        0.6436             nan     0.1000   -0.0000\n",
      "   360        0.6409             nan     0.1000   -0.0000\n",
      "   380        0.6388             nan     0.1000   -0.0001\n",
      "   400        0.6368             nan     0.1000   -0.0000\n",
      "   420        0.6350             nan     0.1000   -0.0000\n",
      "   440        0.6330             nan     0.1000   -0.0000\n",
      "   460        0.6313             nan     0.1000   -0.0000\n",
      "   480        0.6297             nan     0.1000   -0.0000\n",
      "   500        0.6277             nan     0.1000   -0.0000\n",
      "   520        0.6262             nan     0.1000   -0.0000\n",
      "   540        0.6244             nan     0.1000   -0.0000\n",
      "   560        0.6227             nan     0.1000   -0.0000\n",
      "   580        0.6208             nan     0.1000   -0.0000\n",
      "   600        0.6194             nan     0.1000   -0.0000\n",
      "   620        0.6179             nan     0.1000    0.0000\n",
      "   640        0.6164             nan     0.1000   -0.0000\n",
      "   660        0.6149             nan     0.1000   -0.0000\n",
      "   680        0.6132             nan     0.1000   -0.0000\n",
      "   700        0.6115             nan     0.1000   -0.0000\n",
      "   720        0.6100             nan     0.1000   -0.0000\n",
      "   740        0.6087             nan     0.1000   -0.0001\n",
      "   760        0.6071             nan     0.1000   -0.0000\n",
      "   780        0.6055             nan     0.1000   -0.0000\n",
      "   800        0.6044             nan     0.1000   -0.0000\n",
      "   820        0.6029             nan     0.1000   -0.0000\n",
      "   840        0.6017             nan     0.1000   -0.0001\n",
      "   860        0.6003             nan     0.1000   -0.0000\n",
      "   880        0.5989             nan     0.1000   -0.0000\n",
      "   900        0.5975             nan     0.1000   -0.0000\n",
      "   920        0.5963             nan     0.1000   -0.0000\n",
      "   940        0.5949             nan     0.1000   -0.0000\n",
      "   960        0.5935             nan     0.1000   -0.0000\n",
      "   980        0.5923             nan     0.1000   -0.0000\n",
      "  1000        0.5912             nan     0.1000   -0.0000\n",
      "\n"
     ]
    }
   ],
   "source": [
    "model = train(newtarget~.,\n",
    "              method = \"gbm\",\n",
    "              data = projetTrain[0:10000],\n",
    "              trControl = trctrl,\n",
    "              metric = \"ROC\",\n",
    "              tuneGrid = grid\n",
    "             )"
   ]
  },
  {
   "cell_type": "code",
   "execution_count": 6,
   "metadata": {
    "collapsed": false
   },
   "outputs": [
    {
     "data": {
      "text/html": [
       "<table>\n",
       "<thead><tr><th></th><th scope=col>shrinkage</th><th scope=col>interaction.depth</th><th scope=col>n.minobsinnode</th><th scope=col>n.trees</th><th scope=col>ROC</th><th scope=col>Sens</th><th scope=col>Spec</th><th scope=col>ROCSD</th><th scope=col>SensSD</th><th scope=col>SpecSD</th></tr></thead>\n",
       "<tbody>\n",
       "\t<tr><th scope=row>1</th><td>1.000000e-01</td><td>4.000000e+00</td><td>1.000000e+01</td><td>2.500000e+02</td><td>9.172768e-01</td><td>8.654030e-01</td><td>7.955919e-01</td><td>1.771171e-03</td><td>6.016466e-03</td><td>8.758397e-03</td></tr>\n",
       "\t<tr><th scope=row>2</th><td>1.000000e-01</td><td>4.000000e+00</td><td>1.000000e+01</td><td>1.000000e+03</td><td>9.185748e-01</td><td>8.673449e-01</td><td>7.928665e-01</td><td>2.088597e-03</td><td>3.961986e-03</td><td>5.207488e-03</td></tr>\n",
       "</tbody>\n",
       "</table>\n"
      ],
      "text/latex": [
       "\\begin{tabular}{r|llllllllll}\n",
       "  & shrinkage & interaction.depth & n.minobsinnode & n.trees & ROC & Sens & Spec & ROCSD & SensSD & SpecSD\\\\\n",
       "\\hline\n",
       "\t1 & 1.000000e-01 & 4.000000e+00 & 1.000000e+01 & 2.500000e+02 & 9.172768e-01 & 8.654030e-01 & 7.955919e-01 & 1.771171e-03 & 6.016466e-03 & 8.758397e-03\\\\\n",
       "\t2 & 1.000000e-01 & 4.000000e+00 & 1.000000e+01 & 1.000000e+03 & 9.185748e-01 & 8.673449e-01 & 7.928665e-01 & 2.088597e-03 & 3.961986e-03 & 5.207488e-03\\\\\n",
       "\\end{tabular}\n"
      ],
      "text/plain": [
       "  shrinkage interaction.depth n.minobsinnode n.trees       ROC      Sens\n",
       "1       0.1                 4             10     250 0.9172768 0.8654030\n",
       "2       0.1                 4             10    1000 0.9185748 0.8673449\n",
       "       Spec       ROCSD      SensSD      SpecSD\n",
       "1 0.7955919 0.001771171 0.006016466 0.008758397\n",
       "2 0.7928665 0.002088597 0.003961986 0.005207488"
      ]
     },
     "metadata": {},
     "output_type": "display_data"
    }
   ],
   "source": [
    "model$results"
   ]
  },
  {
   "cell_type": "code",
   "execution_count": 18,
   "metadata": {
    "collapsed": true
   },
   "outputs": [],
   "source": [
    "Y = projetTrain$newtarget"
   ]
  },
  {
   "cell_type": "code",
   "execution_count": 20,
   "metadata": {
    "collapsed": false
   },
   "outputs": [
    {
     "name": "stderr",
     "output_type": "stream",
     "text": [
      "Warning message in alloc.col(x):\n",
      "\"Attempt to reduce allocation from 192 to 191 ignored. Can only increase allocation via shallow copy.\""
     ]
    }
   ],
   "source": [
    "projetTrain$newtarget = NULL"
   ]
  },
  {
   "cell_type": "code",
   "execution_count": 3,
   "metadata": {
    "collapsed": false
   },
   "outputs": [
    {
     "data": {
      "text/plain": [
       "                  Length Class      Mode     \n",
       "initF                 1  -none-     numeric  \n",
       "fit               51381  -none-     numeric  \n",
       "train.error        1000  -none-     numeric  \n",
       "valid.error        1000  -none-     numeric  \n",
       "oobag.improve      1000  -none-     numeric  \n",
       "trees              1000  -none-     list     \n",
       "c.splits              0  -none-     list     \n",
       "bag.fraction          1  -none-     numeric  \n",
       "distribution          1  -none-     list     \n",
       "interaction.depth     1  -none-     numeric  \n",
       "n.minobsinnode        1  -none-     numeric  \n",
       "num.classes           1  -none-     numeric  \n",
       "n.trees               1  -none-     numeric  \n",
       "nTrain                1  -none-     numeric  \n",
       "train.fraction        1  -none-     numeric  \n",
       "response.name         1  -none-     character\n",
       "shrinkage             1  -none-     numeric  \n",
       "var.levels          183  -none-     list     \n",
       "var.monotone        183  -none-     numeric  \n",
       "var.names           183  -none-     character\n",
       "var.type            183  -none-     numeric  \n",
       "verbose               1  -none-     logical  \n",
       "data                  6  -none-     list     \n",
       "xNames              183  -none-     character\n",
       "problemType           1  -none-     character\n",
       "tuneValue             4  data.frame list     \n",
       "obsLevels             2  -none-     character"
      ]
     },
     "metadata": {},
     "output_type": "display_data"
    }
   ],
   "source": []
  },
  {
   "cell_type": "code",
   "execution_count": 14,
   "metadata": {
    "collapsed": true
   },
   "outputs": [],
   "source": [
    "Y_pred = predict(model,projetTrain)"
   ]
  },
  {
   "cell_type": "code",
   "execution_count": 21,
   "metadata": {
    "collapsed": false
   },
   "outputs": [
    {
     "name": "stderr",
     "output_type": "stream",
     "text": [
      "Loading required package: gbm\n",
      "Warning message:\n",
      "\"package 'gbm' was built under R version 3.3.2\"Loading required package: survival\n",
      "Warning message:\n",
      "\"package 'survival' was built under R version 3.3.2\"\n",
      "Attaching package: 'survival'\n",
      "\n",
      "The following object is masked from 'package:caret':\n",
      "\n",
      "    cluster\n",
      "\n",
      "Loading required package: splines\n",
      "Loading required package: parallel\n",
      "Loaded gbm 2.1.1\n",
      "Loading required package: plyr\n"
     ]
    }
   ],
   "source": [
    "###\n",
    "result.predicted.prob <- predict(model, projetTrain , type=\"prob\") # Prediction"
   ]
  },
  {
   "cell_type": "code",
   "execution_count": 27,
   "metadata": {
    "collapsed": false
   },
   "outputs": [
    {
     "ename": "ERROR",
     "evalue": "Error in table(Y, Y_pred): objet 'Y_pred' introuvable\n",
     "output_type": "error",
     "traceback": [
      "Error in table(Y, Y_pred): objet 'Y_pred' introuvable\nTraceback:\n",
      "1. table(Y, Y_pred)"
     ]
    }
   ],
   "source": [
    "table(Y,Y_pred)"
   ]
  },
  {
   "cell_type": "code",
   "execution_count": 26,
   "metadata": {
    "collapsed": false
   },
   "outputs": [
    {
     "data": {
      "text/plain": [
       "\n",
       "Call:\n",
       "roc.default(response = Y, predictor = result.predicted.prob$OK)\n",
       "\n",
       "Data: result.predicted.prob$OK in 34503 controls (Y KO) < 16878 cases (Y OK).\n",
       "Area under the curve: 0.9396"
      ]
     },
     "metadata": {},
     "output_type": "display_data"
    },
    {
     "data": {
      "image/png": "[encoded data removed]",
      "text/plain": [
       "plot without title"
      ]
     },
     "metadata": {},
     "output_type": "display_data"
    }
   ],
   "source": [
    "library(pROC)\n",
    "result.roc <- roc(Y, result.predicted.prob$OK) # Draw ROC curve.\n",
    "plot(result.roc, print.thres=\"best\", print.thres.best.method=\"closest.topleft\")"
   ]
  },
  {
   "cell_type": "code",
   "execution_count": 27,
   "metadata": {
    "collapsed": false
   },
   "outputs": [],
   "source": [
    "save(model, file=\"gbm.Rdata\")"
   ]
  }
 ],
 "metadata": {
  "anaconda-cloud": {},
  "kernelspec": {
   "display_name": "R",
   "language": "R",
   "name": "ir"
  },
  "language_info": {
   "codemirror_mode": "r",
   "file_extension": ".r",
   "mimetype": "text/x-r-source",
   "name": "R",
   "pygments_lexer": "r",
   "version": "3.3.1"
  }
 },
 "nbformat": 4,
 "nbformat_minor": 1
}
