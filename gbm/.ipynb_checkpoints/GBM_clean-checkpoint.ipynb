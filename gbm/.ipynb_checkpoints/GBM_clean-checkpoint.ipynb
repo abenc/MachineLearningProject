{
 "cells": [
  {
   "cell_type": "markdown",
   "metadata": {},
   "source": [
    "# Prediction using GBM"
   ]
  },
  {
   "cell_type": "markdown",
   "metadata": {},
   "source": [
    "##### loading libraries"
   ]
  },
  {
   "cell_type": "code",
   "execution_count": null,
   "metadata": {
    "collapsed": false
   },
   "outputs": [],
   "source": [
    "library(data.table)\n",
    "library(caret)\n",
    "library(pROC)"
   ]
  },
  {
   "cell_type": "markdown",
   "metadata": {},
   "source": [
    "##### loading datasets"
   ]
  },
  {
   "cell_type": "code",
   "execution_count": null,
   "metadata": {
    "collapsed": true
   },
   "outputs": [],
   "source": [
    "load(\"../data_processed/projetDataBase.Rda\")\n",
    "projetTrain    = sub.projetTrain.base\n",
    "projetValid    = sub.projetValid.base"
   ]
  },
  {
   "cell_type": "markdown",
   "metadata": {},
   "source": [
    "##### making subsets for train and test of our TRAIN DATA"
   ]
  },
  {
   "cell_type": "code",
   "execution_count": null,
   "metadata": {
    "collapsed": true
   },
   "outputs": [],
   "source": [
    "set.seed(30)\n",
    "split = sample(nrow(projetTrain), floor(0.1*nrow(projetTrain)))\n",
    "sub.train = projetTrain[split,]\n",
    "sub.test  = projetTrain[-split,]"
   ]
  },
  {
   "cell_type": "markdown",
   "metadata": {},
   "source": [
    "##### defining train control and control grid"
   ]
  },
  {
   "cell_type": "code",
   "execution_count": null,
   "metadata": {
    "collapsed": true
   },
   "outputs": [],
   "source": [
    "trctrl = trainControl(\n",
    "                     method = 'repeatedcv',\n",
    "                     number = 3,\n",
    "                     returnResamp='none',\n",
    "                     summaryFunction = twoClassSummary,\n",
    "                     allowParallel = TRUE,\n",
    "                     classProbs = TRUE\n",
    "                     )"
   ]
  },
  {
   "cell_type": "code",
   "execution_count": null,
   "metadata": {
    "collapsed": true
   },
   "outputs": [],
   "source": [
    "grid = expand.grid(\n",
    "                  n.trees=c(1000,250),\n",
    "                  interaction.depth = 4,\n",
    "                  shrinkage = 0.1,\n",
    "                  n.minobsinnode = 10\n",
    "                  )"
   ]
  },
  {
   "cell_type": "markdown",
   "metadata": {},
   "source": [
    "##### Computing the GBM model"
   ]
  },
  {
   "cell_type": "code",
   "execution_count": null,
   "metadata": {
    "collapsed": true
   },
   "outputs": [],
   "source": [
    "gbm.model = train(newtarget~.,\n",
    "              method = \"gbm\",\n",
    "              data = sub.train,\n",
    "              trControl = trctrl,\n",
    "              metric = \"ROC\",\n",
    "              tuneGrid = grid\n",
    "             )"
   ]
  },
  {
   "cell_type": "code",
   "execution_count": null,
   "metadata": {
    "collapsed": true
   },
   "outputs": [],
   "source": [
    "plot(gbm.model) # visialusation des performances "
   ]
  },
  {
   "cell_type": "markdown",
   "metadata": {},
   "source": [
    "##### model description"
   ]
  },
  {
   "cell_type": "code",
   "execution_count": null,
   "metadata": {
    "collapsed": true
   },
   "outputs": [],
   "source": [
    "gbm.model"
   ]
  },
  {
   "cell_type": "markdown",
   "metadata": {},
   "source": [
    "##### Prediction on test subset"
   ]
  },
  {
   "cell_type": "code",
   "execution_count": null,
   "metadata": {
    "collapsed": true
   },
   "outputs": [],
   "source": [
    "result.predicted.prob <- predict(gbm.model, sub.test , type=\"prob\") # Prediction"
   ]
  },
  {
   "cell_type": "markdown",
   "metadata": {},
   "source": [
    "##### AUC curve"
   ]
  },
  {
   "cell_type": "code",
   "execution_count": null,
   "metadata": {
    "collapsed": true
   },
   "outputs": [],
   "source": [
    "result.roc <- roc(sub.test$target, result.predicted.prob$OK) # Draw ROC curve.\n",
    "plot(result.roc, print.thres=\"best\", print.thres.best.method=\"closest.topleft\")"
   ]
  },
  {
   "cell_type": "markdown",
   "metadata": {},
   "source": [
    "##### Saving model "
   ]
  },
  {
   "cell_type": "code",
   "execution_count": null,
   "metadata": {
    "collapsed": true
   },
   "outputs": [],
   "source": [
    "save(gbm.model, file=\"gbm.model.Rdata\")"
   ]
  },
  {
   "cell_type": "markdown",
   "metadata": {},
   "source": [
    "##### generating the response for the validation subset"
   ]
  },
  {
   "cell_type": "code",
   "execution_count": null,
   "metadata": {
    "collapsed": true
   },
   "outputs": [],
   "source": [
    "result.predicted.prob.valid <- predict(gbm.model, projetValid , type=\"prob\") # Prediction on validation subset\n",
    "projetValid$Id = as.character(projetValid$Id)\n",
    "validation.results = cbind(projetValid[,\"Id\",with=FALSE],result.predicted.prob.valid)\n",
    "write.csv(validation.results, file = \"validation_results.csv\")"
   ]
  }
 ],
 "metadata": {
  "anaconda-cloud": {},
  "kernelspec": {
   "display_name": "R",
   "language": "R",
   "name": "ir"
  },
  "language_info": {
   "codemirror_mode": "r",
   "file_extension": ".r",
   "mimetype": "text/x-r-source",
   "name": "R",
   "pygments_lexer": "r",
   "version": "3.3.1"
  }
 },
 "nbformat": 4,
 "nbformat_minor": 1
}
