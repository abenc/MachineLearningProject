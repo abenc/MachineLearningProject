{
 "cells": [
  {
   "cell_type": "markdown",
   "metadata": {},
   "source": [
    "# Prediction using RandomForest"
   ]
  },
  {
   "cell_type": "markdown",
   "metadata": {},
   "source": [
    "##### loading libraries"
   ]
  },
  {
   "cell_type": "code",
   "execution_count": null,
   "metadata": {
    "collapsed": false
   },
   "outputs": [],
   "source": [
    "library(data.table)\n",
    "library(caret)\n",
    "library(pROC)"
   ]
  },
  {
   "cell_type": "markdown",
   "metadata": {},
   "source": [
    "##### loading datasets"
   ]
  },
  {
   "cell_type": "code",
   "execution_count": 2,
   "metadata": {
    "collapsed": true
   },
   "outputs": [],
   "source": [
    "load(\"../data_processed/projetDataBase.Rda\")\n",
    "projetTrain    = sub.projetTrain.base\n",
    "projetValid    = sub.projetValid.base"
   ]
  },
  {
   "cell_type": "markdown",
   "metadata": {},
   "source": [
    "##### making subsets for train and test of our TRAIN DATA"
   ]
  },
  {
   "cell_type": "code",
   "execution_count": 3,
   "metadata": {
    "collapsed": true
   },
   "outputs": [],
   "source": [
    "set.seed(30)\n",
    "split = sample(nrow(projetTrain), floor(0.1*nrow(projetTrain)))\n",
    "sub.train = projetTrain[split,]\n",
    "sub.test  = projetTrain[-split,]"
   ]
  },
  {
   "cell_type": "markdown",
   "metadata": {},
   "source": [
    "##### defining train control and control grid"
   ]
  },
  {
   "cell_type": "code",
   "execution_count": 4,
   "metadata": {
    "collapsed": true
   },
   "outputs": [],
   "source": [
    "control    = trainControl(method=\"repeatedcv\", number=4, repeats=2)\n",
    "seed       = 7\n",
    "metric     = \"Accuracy\"\n",
    "mtry       = floor(sqrt(ncol(sub.train)))\n",
    "tunegrid   = expand.grid(.mtry=mtry)"
   ]
  },
  {
   "cell_type": "markdown",
   "metadata": {},
   "source": [
    "##### Computing the RandomForest model"
   ]
  },
  {
   "cell_type": "code",
   "execution_count": null,
   "metadata": {
    "collapsed": false
   },
   "outputs": [],
   "source": [
    "rf.model = train(target~., \n",
    "                   data=sub.train,\n",
    "                   method=\"rf\",\n",
    "                   metric=metric,\n",
    "                   tuneGrid=tunegrid,\n",
    "                   trControl=control,\n",
    "                   importance=TRUE,\n",
    "                   localImp=TRUE,\n",
    "                   proximity=TRUE)"
   ]
  },
  {
   "cell_type": "markdown",
   "metadata": {},
   "source": [
    "##### model description"
   ]
  },
  {
   "cell_type": "code",
   "execution_count": 7,
   "metadata": {
    "collapsed": false
   },
   "outputs": [
    {
     "data": {
      "text/plain": [
       "Random Forest \n",
       "\n",
       "5138 samples\n",
       " 129 predictor\n",
       "   2 classes: 'KO', 'OK' \n",
       "\n",
       "No pre-processing\n",
       "Resampling: Cross-Validated (4 fold, repeated 2 times) \n",
       "Summary of sample sizes: 3854, 3854, 3853, 3853, 3853, 3854, ... \n",
       "Resampling results:\n",
       "\n",
       "  Accuracy   Kappa   \n",
       "  0.8233746  0.583739\n",
       "\n",
       "Tuning parameter 'mtry' was held constant at a value of 11\n",
       " "
      ]
     },
     "metadata": {},
     "output_type": "display_data"
    }
   ],
   "source": [
    "rf.model"
   ]
  },
  {
   "cell_type": "markdown",
   "metadata": {},
   "source": [
    "##### Prediction on test subset"
   ]
  },
  {
   "cell_type": "code",
   "execution_count": 8,
   "metadata": {
    "collapsed": true
   },
   "outputs": [],
   "source": [
    "result.predicted.prob <- predict(rf.model, sub.test , type=\"prob\") # Prediction"
   ]
  },
  {
   "cell_type": "markdown",
   "metadata": {},
   "source": [
    "##### AUC curve"
   ]
  },
  {
   "cell_type": "code",
   "execution_count": 16,
   "metadata": {
    "collapsed": false
   },
   "outputs": [
    {
     "data": {
      "text/plain": [
       "\n",
       "Call:\n",
       "roc.default(response = sub.test$target, predictor = result.predicted.prob$OK)\n",
       "\n",
       "Data: result.predicted.prob$OK in 31047 controls (sub.test$target KO) < 15196 cases (sub.test$target OK).\n",
       "Area under the curve: 0.9016"
      ]
     },
     "metadata": {},
     "output_type": "display_data"
    },
    {
     "data": {
      "image/png": "[encoded data removed]",
      "text/plain": [
       "plot without title"
      ]
     },
     "metadata": {},
     "output_type": "display_data"
    }
   ],
   "source": [
    "result.roc <- roc(sub.test$target, result.predicted.prob$OK) # Draw ROC curve.\n",
    "plot(result.roc, print.thres=\"best\", print.thres.best.method=\"closest.topleft\")"
   ]
  },
  {
   "cell_type": "code",
   "execution_count": 11,
   "metadata": {
    "collapsed": false
   },
   "outputs": [
    {
     "name": "stdout",
     "output_type": "stream",
     "text": [
      "threshold  accuracy \n",
      "0.3590000 0.8198863 \n"
     ]
    }
   ],
   "source": [
    "result.coords <- coords(result.roc, \"best\", best.method=\"closest.topleft\", ret=c(\"threshold\", \"accuracy\"))\n",
    "print(result.coords)#to get threshold and accuracy"
   ]
  },
  {
   "cell_type": "markdown",
   "metadata": {},
   "source": [
    "##### Saving model "
   ]
  },
  {
   "cell_type": "code",
   "execution_count": 12,
   "metadata": {
    "collapsed": true
   },
   "outputs": [],
   "source": [
    "save(rf.model, file=\"rf_model.Rdata\")"
   ]
  },
  {
   "cell_type": "markdown",
   "metadata": {},
   "source": [
    "##### generating the response for the validation subset"
   ]
  },
  {
   "cell_type": "code",
   "execution_count": 13,
   "metadata": {
    "collapsed": true
   },
   "outputs": [],
   "source": [
    "result.predicted.prob.valid <- predict(rf.model, projetValid , type=\"prob\") # Prediction on validation subset\n",
    "projetValid$Id = as.character(projetValid$Id)\n",
    "validation.results = cbind(projetValid[,\"Id\",with=FALSE],result.predicted.prob.valid)\n",
    "write.csv(validation.results, file = \"validation_results.csv\")"
   ]
  }
 ],
 "metadata": {
  "anaconda-cloud": {},
  "kernelspec": {
   "display_name": "R",
   "language": "R",
   "name": "ir"
  },
  "language_info": {
   "codemirror_mode": "r",
   "file_extension": ".r",
   "mimetype": "text/x-r-source",
   "name": "R",
   "pygments_lexer": "r",
   "version": "3.3.1"
  }
 },
 "nbformat": 4,
 "nbformat_minor": 1
}
