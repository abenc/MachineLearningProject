{
 "cells": [
  {
   "cell_type": "code",
   "execution_count": 1,
   "metadata": {
    "collapsed": true
   },
   "outputs": [
    {
     "name": "stderr",
     "output_type": "stream",
     "text": [
      "Loading required package: lattice\n",
      "Loading required package: ggplot2\n",
      "randomForest 4.6-12\n",
      "Type rfNews() to see new features/changes/bug fixes.\n",
      "\n",
      "Attaching package: 'randomForest'\n",
      "\n",
      "The following object is masked from 'package:ggplot2':\n",
      "\n",
      "    margin\n",
      "\n"
     ]
    }
   ],
   "source": [
    "library(data.table)\n",
    "library(caret)\n",
    "library(pROC)\n",
    "library(randomForest)\n",
    "load(\"projetdatascience.rda\")"
   ]
  },
  {
   "cell_type": "code",
   "execution_count": 1,
   "metadata": {
    "collapsed": false
   },
   "outputs": [
    {
     "ename": "ERROR",
     "evalue": "Error in eval(expr, envir, enclos): objet 'projetTrain' introuvable\n",
     "output_type": "error",
     "traceback": [
      "Error in eval(expr, envir, enclos): objet 'projetTrain' introuvable\nTraceback:\n"
     ]
    }
   ],
   "source": [
    "vec_names         = names(projetTrain)\n",
    "nb_lignes         = nrow(projetTrain)\n",
    "vec_taux          = rep(0,length(vec_names))\n",
    "vec_factors       = rep(0,length(vec_names))\n",
    "index             = 1\n",
    "data.informations = data.table(\n",
    "                         feature=vec_names, \n",
    "                         taux=vec_taux,\n",
    "                         factors=vec_factors\n",
    "                        )\n",
    "\n",
    "\n",
    "for(name in data.informations$feature){\n",
    "    data.informations[index,  taux := (sum( is.na(projetTrain[,name, with=FALSE])) / nb_lignes)*100] \n",
    "    data.informations[index,factors:= length(table(projetTrain[,name, with=FALSE]))]\n",
    "    index=index+1\n",
    "}"
   ]
  },
  {
   "cell_type": "code",
   "execution_count": 3,
   "metadata": {
    "collapsed": true
   },
   "outputs": [],
   "source": [
    "columnsToFactor = data.informations[factors<10]$feature\n",
    "columnsToDrop   = data.informations[taux>17]$feature"
   ]
  },
  {
   "cell_type": "code",
   "execution_count": 4,
   "metadata": {
    "collapsed": true
   },
   "outputs": [],
   "source": [
    "projetTrain = projetTrain[,target:=ifelse(target==1,\"OK\",\"KO\")]"
   ]
  },
  {
   "cell_type": "code",
   "execution_count": 5,
   "metadata": {
    "collapsed": false
   },
   "outputs": [],
   "source": [
    "for (feature in columnsToFactor) {    \n",
    "    if(feature != \"target\" ) { projetValid[,feature:=as.factor(get(feature)),with=FALSE] }\n",
    "    projetTrain[,feature:=as.factor(get(feature)),with=FALSE]\n",
    "}\n",
    "projetTrain$Product_Info_2 = as.factor(projetTrain$Product_Info_2)\n",
    "projetValid$Product_Info_2 = as.factor(projetValid$Product_Info_2)"
   ]
  },
  {
   "cell_type": "code",
   "execution_count": 6,
   "metadata": {
    "collapsed": true
   },
   "outputs": [],
   "source": [
    "projetTrainClean = na.roughfix(projetTrain)"
   ]
  },
  {
   "cell_type": "code",
   "execution_count": 8,
   "metadata": {
    "collapsed": true
   },
   "outputs": [],
   "source": [
    "set.seed(30)\n",
    "split = sample(nrow(projetTrainClean), floor(0.1*nrow(projetTrainClean)))\n",
    "sub.train = projetTrainClean[split,]\n",
    "sub.test  = projetTrainClean[-split,]"
   ]
  },
  {
   "cell_type": "code",
   "execution_count": 10,
   "metadata": {
    "collapsed": true
   },
   "outputs": [],
   "source": [
    "control    = trainControl(method=\"repeatedcv\", number=4, repeats=2)\n",
    "seed       = 7\n",
    "metric     = \"AUC\"\n",
    "mtry       = floor(sqrt(ncol(sub.train)))\n",
    "tunegrid   = expand.grid(.mtry=mtry)"
   ]
  },
  {
   "cell_type": "code",
   "execution_count": 11,
   "metadata": {
    "collapsed": true
   },
   "outputs": [
    {
     "name": "stderr",
     "output_type": "stream",
     "text": [
      "Warning message in train.default(x, y, weights = w, ...):\n",
      "\"The metric \"AUC\" was not in the result set. Accuracy will be used instead.\""
     ]
    }
   ],
   "source": [
    "rf_default = train(target~., \n",
    "                   data=sub.train,\n",
    "                   method=\"rf\",\n",
    "                   metric=metric,\n",
    "                   tuneGrid=tunegrid,\n",
    "                   trControl=control,\n",
    "                   importance=TRUE,\n",
    "                   localImp=TRUE,\n",
    "                   proximity=TRUE)"
   ]
  },
  {
   "cell_type": "code",
   "execution_count": 16,
   "metadata": {
    "collapsed": false
   },
   "outputs": [
    {
     "name": "stdout",
     "output_type": "stream",
     "text": [
      "Random Forest \n",
      "\n",
      "5138 samples\n",
      " 127 predictor\n",
      "   2 classes: 'KO', 'OK' \n",
      "\n",
      "No pre-processing\n",
      "Resampling: Cross-Validated (4 fold, repeated 2 times) \n",
      "Summary of sample sizes: 3854, 3854, 3853, 3853, 3853, 3854, ... \n",
      "Resampling results:\n",
      "\n",
      "  Accuracy   Kappa    \n",
      "  0.8241541  0.5863842\n",
      "\n",
      "Tuning parameter 'mtry' was held constant at a value of 11\n",
      " \n"
     ]
    }
   ],
   "source": [
    "print(rf_default)"
   ]
  },
  {
   "cell_type": "code",
   "execution_count": 17,
   "metadata": {
    "collapsed": false,
    "scrolled": false
   },
   "outputs": [
    {
     "name": "stderr",
     "output_type": "stream",
     "text": [
      "Warning message in train.default(x, y, weights = w, ...):\n",
      "\"The metric \"AUC\" was not in the result set. Accuracy will be used instead.\""
     ]
    },
    {
     "name": "stdout",
     "output_type": "stream",
     "text": [
      "Random Forest \n",
      "\n",
      "5138 samples\n",
      " 127 predictor\n",
      "   2 classes: 'KO', 'OK' \n",
      "\n",
      "No pre-processing\n",
      "Resampling: Cross-Validated (4 fold, repeated 2 times) \n",
      "Summary of sample sizes: 3854, 3853, 3853, 3854, 3854, 3854, ... \n",
      "Resampling results across tuning parameters:\n",
      "\n",
      "  mtry  Accuracy   Kappa    \n",
      "   10   0.8223046  0.5805599\n",
      "   13   0.8227914  0.5846728\n",
      "   21   0.8259054  0.5972706\n",
      "   34   0.8248364  0.5990302\n",
      "   60   0.8273662  0.6075873\n",
      "   67   0.8277556  0.6087831\n",
      "   94   0.8267820  0.6078712\n",
      "  163   0.8247382  0.6049647\n",
      "  173   0.8245435  0.6051647\n",
      "  175   0.8237647  0.6034607\n",
      "\n",
      "Accuracy was used to select the optimal model using  the largest value.\n",
      "The final value used for the model was mtry = 67. \n"
     ]
    },
    {
     "data": {},
     "metadata": {},
     "output_type": "display_data"
    },
    {
     "data": {
      "image/png": "[encoded data removed]",
      "text/plain": [
       "plot without title"
      ]
     },
     "metadata": {},
     "output_type": "display_data"
    }
   ],
   "source": [
    "control   = trainControl(method=\"repeatedcv\",\n",
    "                        number=4,\n",
    "                        repeats=2,\n",
    "                        search=\"random\")\n",
    "\n",
    "rf_random = train(target~.,\n",
    "                   data=sub.train,\n",
    "                   method=\"rf\",\n",
    "                   metric=metric,\n",
    "                   tuneLength=10,\n",
    "                   trControl=control)\n",
    "print(rf_random)\n",
    "plot(rf_random)"
   ]
  },
  {
   "cell_type": "code",
   "execution_count": 18,
   "metadata": {
    "collapsed": true
   },
   "outputs": [],
   "source": [
    "result.predicted.prob <- predict(rf_random, sub.test , type=\"prob\") # Prediction"
   ]
  },
  {
   "cell_type": "code",
   "execution_count": 24,
   "metadata": {
    "collapsed": false
   },
   "outputs": [
    {
     "data": {
      "text/plain": [
       "\n",
       "Call:\n",
       "roc.default(response = sub.test$target, predictor = result.predicted.prob$OK)\n",
       "\n",
       "Data: result.predicted.prob$OK in 31047 controls (sub.test$target KO) < 15196 cases (sub.test$target OK).\n",
       "Area under the curve: 0.9022"
      ]
     },
     "metadata": {},
     "output_type": "display_data"
    },
    {
     "data": {
      "image/png": "[encoded data removed]",
      "text/plain": [
       "plot without title"
      ]
     },
     "metadata": {},
     "output_type": "display_data"
    }
   ],
   "source": [
    "result.roc <- roc(sub.test$target, result.predicted.prob$OK) # Draw ROC curve.\n",
    "plot(result.roc, print.thres=\"best\", print.thres.best.method=\"closest.topleft\")"
   ]
  },
  {
   "cell_type": "code",
   "execution_count": 25,
   "metadata": {
    "collapsed": false
   },
   "outputs": [
    {
     "name": "stdout",
     "output_type": "stream",
     "text": [
      "threshold  accuracy \n",
      "0.3810000 0.8206431 \n"
     ]
    }
   ],
   "source": [
    "result.coords <- coords(result.roc, \"best\", best.method=\"closest.topleft\", ret=c(\"threshold\", \"accuracy\"))\n",
    "print(result.coords)#to get threshold and accuracy"
   ]
  },
  {
   "cell_type": "code",
   "execution_count": null,
   "metadata": {
    "collapsed": true
   },
   "outputs": [],
   "source": [
    "table(sub.train$target,result.)"
   ]
  },
  {
   "cell_type": "code",
   "execution_count": 50,
   "metadata": {
    "collapsed": false
   },
   "outputs": [],
   "source": [
    "result.predicted.response = as.data.table(result.predicted.prob)"
   ]
  },
  {
   "cell_type": "code",
   "execution_count": 51,
   "metadata": {
    "collapsed": false
   },
   "outputs": [
    {
     "data": {
      "text/html": [
       "<table>\n",
       "<thead><tr><th></th><th scope=col>KO</th><th scope=col>OK</th></tr></thead>\n",
       "<tbody>\n",
       "\t<tr><th scope=row>1</th><td>0.396</td><td>OK   </td></tr>\n",
       "\t<tr><th scope=row>2</th><td>0.886</td><td>KO   </td></tr>\n",
       "\t<tr><th scope=row>3</th><td>0.544</td><td>KO   </td></tr>\n",
       "\t<tr><th scope=row>4</th><td>0.494</td><td>KO   </td></tr>\n",
       "\t<tr><th scope=row>5</th><td>0.542</td><td>KO   </td></tr>\n",
       "\t<tr><th scope=row>6</th><td>0.354</td><td>OK   </td></tr>\n",
       "\t<tr><th scope=row>7</th><td>0.408</td><td>OK   </td></tr>\n",
       "\t<tr><th scope=row>8</th><td>0.938</td><td>KO   </td></tr>\n",
       "\t<tr><th scope=row>9</th><td>0.926</td><td>KO   </td></tr>\n",
       "\t<tr><th scope=row>10</th><td>0.946</td><td>KO   </td></tr>\n",
       "\t<tr><th scope=row>11</th><td>0.836</td><td>KO   </td></tr>\n",
       "\t<tr><th scope=row>12</th><td>0.402</td><td>OK   </td></tr>\n",
       "\t<tr><th scope=row>13</th><td>0.982</td><td>KO   </td></tr>\n",
       "\t<tr><th scope=row>14</th><td>0.526</td><td>KO   </td></tr>\n",
       "\t<tr><th scope=row>15</th><td>0.5</td><td>KO </td></tr>\n",
       "\t<tr><th scope=row>16</th><td>0.9</td><td>KO </td></tr>\n",
       "\t<tr><th scope=row>17</th><td>0.474</td><td>KO   </td></tr>\n",
       "\t<tr><th scope=row>18</th><td>0.304</td><td>OK   </td></tr>\n",
       "\t<tr><th scope=row>19</th><td>0.956</td><td>KO   </td></tr>\n",
       "\t<tr><th scope=row>20</th><td>0.986</td><td>KO   </td></tr>\n",
       "\t<tr><th scope=row>21</th><td>0.422</td><td>OK   </td></tr>\n",
       "\t<tr><th scope=row>22</th><td>0.944</td><td>KO   </td></tr>\n",
       "\t<tr><th scope=row>23</th><td>0.874</td><td>KO   </td></tr>\n",
       "\t<tr><th scope=row>24</th><td>0.762</td><td>KO   </td></tr>\n",
       "\t<tr><th scope=row>25</th><td>0.352</td><td>OK   </td></tr>\n",
       "\t<tr><th scope=row>26</th><td>0.656</td><td>KO   </td></tr>\n",
       "\t<tr><th scope=row>27</th><td>0.784</td><td>KO   </td></tr>\n",
       "\t<tr><th scope=row>28</th><td>0.936</td><td>KO   </td></tr>\n",
       "\t<tr><th scope=row>29</th><td>0.916</td><td>KO   </td></tr>\n",
       "\t<tr><th scope=row>30</th><td>0.982</td><td>KO   </td></tr>\n",
       "\t<tr><th scope=row>...</th><td>...</td><td>...</td></tr>\n",
       "\t<tr><th scope=row>46214</th><td>0.468</td><td>KO   </td></tr>\n",
       "\t<tr><th scope=row>46215</th><td>0.59</td><td>KO  </td></tr>\n",
       "\t<tr><th scope=row>46216</th><td>0.592</td><td>KO   </td></tr>\n",
       "\t<tr><th scope=row>46217</th><td>0.898</td><td>KO   </td></tr>\n",
       "\t<tr><th scope=row>46218</th><td>0.972</td><td>KO   </td></tr>\n",
       "\t<tr><th scope=row>46219</th><td>0.37</td><td>OK  </td></tr>\n",
       "\t<tr><th scope=row>46220</th><td>0.878</td><td>KO   </td></tr>\n",
       "\t<tr><th scope=row>46221</th><td>0.886</td><td>KO   </td></tr>\n",
       "\t<tr><th scope=row>46222</th><td>0.704</td><td>KO   </td></tr>\n",
       "\t<tr><th scope=row>46223</th><td>0.636</td><td>KO   </td></tr>\n",
       "\t<tr><th scope=row>46224</th><td>0.93</td><td>KO  </td></tr>\n",
       "\t<tr><th scope=row>46225</th><td>0.98</td><td>KO  </td></tr>\n",
       "\t<tr><th scope=row>46226</th><td>0.528</td><td>KO   </td></tr>\n",
       "\t<tr><th scope=row>46227</th><td>0.984</td><td>KO   </td></tr>\n",
       "\t<tr><th scope=row>46228</th><td>0.986</td><td>KO   </td></tr>\n",
       "\t<tr><th scope=row>46229</th><td>0.394</td><td>OK   </td></tr>\n",
       "\t<tr><th scope=row>46230</th><td>0.696</td><td>KO   </td></tr>\n",
       "\t<tr><th scope=row>46231</th><td>0.636</td><td>KO   </td></tr>\n",
       "\t<tr><th scope=row>46232</th><td>0.792</td><td>KO   </td></tr>\n",
       "\t<tr><th scope=row>46233</th><td>0.478</td><td>KO   </td></tr>\n",
       "\t<tr><th scope=row>46234</th><td>0.528</td><td>KO   </td></tr>\n",
       "\t<tr><th scope=row>46235</th><td>0.968</td><td>KO   </td></tr>\n",
       "\t<tr><th scope=row>46236</th><td>0.984</td><td>KO   </td></tr>\n",
       "\t<tr><th scope=row>46237</th><td>0.804</td><td>KO   </td></tr>\n",
       "\t<tr><th scope=row>46238</th><td>0.61</td><td>KO  </td></tr>\n",
       "\t<tr><th scope=row>46239</th><td>0.65</td><td>KO  </td></tr>\n",
       "\t<tr><th scope=row>46240</th><td>0.75</td><td>KO  </td></tr>\n",
       "\t<tr><th scope=row>46241</th><td>0.898</td><td>KO   </td></tr>\n",
       "\t<tr><th scope=row>46242</th><td>0.426</td><td>OK   </td></tr>\n",
       "\t<tr><th scope=row>46243</th><td>0.486</td><td>KO   </td></tr>\n",
       "</tbody>\n",
       "</table>\n"
      ],
      "text/latex": [
       "\\begin{tabular}{r|ll}\n",
       "  & KO & OK\\\\\n",
       "\\hline\n",
       "\t1 & 0.396 & OK   \\\\\n",
       "\t2 & 0.886 & KO   \\\\\n",
       "\t3 & 0.544 & KO   \\\\\n",
       "\t4 & 0.494 & KO   \\\\\n",
       "\t5 & 0.542 & KO   \\\\\n",
       "\t6 & 0.354 & OK   \\\\\n",
       "\t7 & 0.408 & OK   \\\\\n",
       "\t8 & 0.938 & KO   \\\\\n",
       "\t9 & 0.926 & KO   \\\\\n",
       "\t10 & 0.946 & KO   \\\\\n",
       "\t11 & 0.836 & KO   \\\\\n",
       "\t12 & 0.402 & OK   \\\\\n",
       "\t13 & 0.982 & KO   \\\\\n",
       "\t14 & 0.526 & KO   \\\\\n",
       "\t15 & 0.5 & KO \\\\\n",
       "\t16 & 0.9 & KO \\\\\n",
       "\t17 & 0.474 & KO   \\\\\n",
       "\t18 & 0.304 & OK   \\\\\n",
       "\t19 & 0.956 & KO   \\\\\n",
       "\t20 & 0.986 & KO   \\\\\n",
       "\t21 & 0.422 & OK   \\\\\n",
       "\t22 & 0.944 & KO   \\\\\n",
       "\t23 & 0.874 & KO   \\\\\n",
       "\t24 & 0.762 & KO   \\\\\n",
       "\t25 & 0.352 & OK   \\\\\n",
       "\t26 & 0.656 & KO   \\\\\n",
       "\t27 & 0.784 & KO   \\\\\n",
       "\t28 & 0.936 & KO   \\\\\n",
       "\t29 & 0.916 & KO   \\\\\n",
       "\t30 & 0.982 & KO   \\\\\n",
       "\t... & ... & ...\\\\\n",
       "\t46214 & 0.468 & KO   \\\\\n",
       "\t46215 & 0.59 & KO  \\\\\n",
       "\t46216 & 0.592 & KO   \\\\\n",
       "\t46217 & 0.898 & KO   \\\\\n",
       "\t46218 & 0.972 & KO   \\\\\n",
       "\t46219 & 0.37 & OK  \\\\\n",
       "\t46220 & 0.878 & KO   \\\\\n",
       "\t46221 & 0.886 & KO   \\\\\n",
       "\t46222 & 0.704 & KO   \\\\\n",
       "\t46223 & 0.636 & KO   \\\\\n",
       "\t46224 & 0.93 & KO  \\\\\n",
       "\t46225 & 0.98 & KO  \\\\\n",
       "\t46226 & 0.528 & KO   \\\\\n",
       "\t46227 & 0.984 & KO   \\\\\n",
       "\t46228 & 0.986 & KO   \\\\\n",
       "\t46229 & 0.394 & OK   \\\\\n",
       "\t46230 & 0.696 & KO   \\\\\n",
       "\t46231 & 0.636 & KO   \\\\\n",
       "\t46232 & 0.792 & KO   \\\\\n",
       "\t46233 & 0.478 & KO   \\\\\n",
       "\t46234 & 0.528 & KO   \\\\\n",
       "\t46235 & 0.968 & KO   \\\\\n",
       "\t46236 & 0.984 & KO   \\\\\n",
       "\t46237 & 0.804 & KO   \\\\\n",
       "\t46238 & 0.61 & KO  \\\\\n",
       "\t46239 & 0.65 & KO  \\\\\n",
       "\t46240 & 0.75 & KO  \\\\\n",
       "\t46241 & 0.898 & KO   \\\\\n",
       "\t46242 & 0.426 & OK   \\\\\n",
       "\t46243 & 0.486 & KO   \\\\\n",
       "\\end{tabular}\n"
      ],
      "text/plain": [
       "         KO  OK\n",
       "1     0.396  OK\n",
       "2     0.886  KO\n",
       "3     0.544  KO\n",
       "4     0.494  KO\n",
       "5     0.542  KO\n",
       "6     0.354  OK\n",
       "7     0.408  OK\n",
       "8     0.938  KO\n",
       "9     0.926  KO\n",
       "10    0.946  KO\n",
       "11    0.836  KO\n",
       "12    0.402  OK\n",
       "13    0.982  KO\n",
       "14    0.526  KO\n",
       "15      0.5  KO\n",
       "16      0.9  KO\n",
       "17    0.474  KO\n",
       "18    0.304  OK\n",
       "19    0.956  KO\n",
       "20    0.986  KO\n",
       "21    0.422  OK\n",
       "22    0.944  KO\n",
       "23    0.874  KO\n",
       "24    0.762  KO\n",
       "25    0.352  OK\n",
       "26    0.656  KO\n",
       "27    0.784  KO\n",
       "28    0.936  KO\n",
       "29    0.916  KO\n",
       "30    0.982  KO\n",
       "...     ... ...\n",
       "46214 0.468  KO\n",
       "46215  0.59  KO\n",
       "46216 0.592  KO\n",
       "46217 0.898  KO\n",
       "46218 0.972  KO\n",
       "46219  0.37  OK\n",
       "46220 0.878  KO\n",
       "46221 0.886  KO\n",
       "46222 0.704  KO\n",
       "46223 0.636  KO\n",
       "46224  0.93  KO\n",
       "46225  0.98  KO\n",
       "46226 0.528  KO\n",
       "46227 0.984  KO\n",
       "46228 0.986  KO\n",
       "46229 0.394  OK\n",
       "46230 0.696  KO\n",
       "46231 0.636  KO\n",
       "46232 0.792  KO\n",
       "46233 0.478  KO\n",
       "46234 0.528  KO\n",
       "46235 0.968  KO\n",
       "46236 0.984  KO\n",
       "46237 0.804  KO\n",
       "46238  0.61  KO\n",
       "46239  0.65  KO\n",
       "46240  0.75  KO\n",
       "46241 0.898  KO\n",
       "46242 0.426  OK\n",
       "46243 0.486  KO"
      ]
     },
     "metadata": {},
     "output_type": "display_data"
    }
   ],
   "source": [
    "result.predicted.response[,OK := ifelse( (OK-KO)>0.10 , \"OK\",\"KO\")]"
   ]
  },
  {
   "cell_type": "code",
   "execution_count": 52,
   "metadata": {
    "collapsed": false
   },
   "outputs": [
    {
     "data": {
      "text/plain": [
       "    \n",
       "        KO    OK\n",
       "  KO 27619  3428\n",
       "  OK  4740 10456"
      ]
     },
     "metadata": {},
     "output_type": "display_data"
    }
   ],
   "source": [
    "table(sub.test$target,result.predicted.response$OK)"
   ]
  },
  {
   "cell_type": "code",
   "execution_count": null,
   "metadata": {
    "collapsed": true
   },
   "outputs": [],
   "source": [
    "save"
   ]
  }
 ],
 "metadata": {
  "anaconda-cloud": {},
  "kernelspec": {
   "display_name": "R",
   "language": "R",
   "name": "ir"
  },
  "language_info": {
   "codemirror_mode": "r",
   "file_extension": ".r",
   "mimetype": "text/x-r-source",
   "name": "R",
   "pygments_lexer": "r",
   "version": "3.3.1"
  }
 },
 "nbformat": 4,
 "nbformat_minor": 1
}
