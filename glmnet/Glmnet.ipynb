{
 "cells": [
  {
   "cell_type": "markdown",
   "metadata": {},
   "source": [
    "# Prediction using glmnet "
   ]
  },
  {
   "cell_type": "code",
   "execution_count": 57,
   "metadata": {
    "collapsed": false
   },
   "outputs": [],
   "source": [
    "library(data.table)\n",
    "library(caret)\n",
    "library(pROC)\n",
    "library(randomForest)\n",
    "load(\"projetdatascience.rda\")"
   ]
  },
  {
   "cell_type": "code",
   "execution_count": 59,
   "metadata": {
    "collapsed": true
   },
   "outputs": [],
   "source": [
    "projetValid$target=\"NA\""
   ]
  },
  {
   "cell_type": "code",
   "execution_count": 60,
   "metadata": {
    "collapsed": false
   },
   "outputs": [],
   "source": [
    "projetTrain = rbind(projetTrain,projetValid)"
   ]
  },
  {
   "cell_type": "markdown",
   "metadata": {},
   "source": [
    "##### getting the emptiness ratio and number of factors foreach column and save the information in dataframe"
   ]
  },
  {
   "cell_type": "code",
   "execution_count": 61,
   "metadata": {
    "collapsed": true
   },
   "outputs": [],
   "source": [
    "vec_names         = names(projetTrain)\n",
    "nb_lignes         = nrow(projetTrain)\n",
    "vec_taux          = rep(0,length(vec_names))\n",
    "vec_factors       = rep(0,length(vec_names))\n",
    "index             = 1\n",
    "data.informations = data.table(\n",
    "                         feature=vec_names, \n",
    "                         taux=vec_taux,\n",
    "                         factors=vec_factors\n",
    "                        )\n",
    "\n",
    "\n",
    "for(name in data.informations$feature){\n",
    "    data.informations[index,  taux := (sum( is.na(projetTrain[,name, with=FALSE])) / nb_lignes)*100] \n",
    "    data.informations[index,factors:= length(table(projetTrain[,name, with=FALSE]))]\n",
    "    index=index+1\n",
    "}"
   ]
  },
  {
   "cell_type": "markdown",
   "metadata": {},
   "source": [
    "##### saving in vectors the columns to factorise"
   ]
  },
  {
   "cell_type": "code",
   "execution_count": 62,
   "metadata": {
    "collapsed": true
   },
   "outputs": [],
   "source": [
    "columnsToFactor = data.informations[factors<10]$feature"
   ]
  },
  {
   "cell_type": "code",
   "execution_count": 63,
   "metadata": {
    "collapsed": true
   },
   "outputs": [],
   "source": [
    "projetTrain = projetTrain[,target:=ifelse(target==1,\"OK\",\"KO\")] # transforming target from 1 0 to OK and KO"
   ]
  },
  {
   "cell_type": "markdown",
   "metadata": {},
   "source": [
    "##### factorisation of columns that contains less than 10 unique values\n"
   ]
  },
  {
   "cell_type": "code",
   "execution_count": 64,
   "metadata": {
    "collapsed": true
   },
   "outputs": [],
   "source": [
    "for (feature in columnsToFactor) {    \n",
    "    projetTrain[,feature:=as.factor(get(feature)),with=FALSE]\n",
    "}\n",
    "projetTrain$Product_Info_2 = as.factor(projetTrain$Product_Info_2)\n"
   ]
  },
  {
   "cell_type": "markdown",
   "metadata": {},
   "source": [
    "##### filling NA values "
   ]
  },
  {
   "cell_type": "code",
   "execution_count": 65,
   "metadata": {
    "collapsed": false
   },
   "outputs": [],
   "source": [
    "projetTrainClean = na.roughfix(projetTrain)"
   ]
  },
  {
   "cell_type": "code",
   "execution_count": 87,
   "metadata": {
    "collapsed": false
   },
   "outputs": [],
   "source": [
    "nb.rows = nrow(projetTrainClean)-nrow(projetValid)"
   ]
  },
  {
   "cell_type": "code",
   "execution_count": 88,
   "metadata": {
    "collapsed": false
   },
   "outputs": [],
   "source": [
    "projetTrain = projetTrainClean[1:nb.rows]"
   ]
  },
  {
   "cell_type": "code",
   "execution_count": 110,
   "metadata": {
    "collapsed": true
   },
   "outputs": [],
   "source": [
    "projetValid = projetTrainClean[(nb.rows+1):nrow(projetTrainClean)]"
   ]
  },
  {
   "cell_type": "markdown",
   "metadata": {},
   "source": [
    "##### making subsets for train and test"
   ]
  },
  {
   "cell_type": "code",
   "execution_count": 93,
   "metadata": {
    "collapsed": true
   },
   "outputs": [],
   "source": [
    "set.seed(30)\n",
    "split = sample(nrow(projetTrain), floor(0.3*nrow(projetTrain)))\n",
    "sub.train = projetTrain[split,]\n",
    "sub.test  = projetTrain[-split,]"
   ]
  },
  {
   "cell_type": "code",
   "execution_count": 94,
   "metadata": {
    "collapsed": true
   },
   "outputs": [],
   "source": [
    "lambda.grid = seq(0.005,0.007,length=10)\n",
    "alpha.grid  = seq(0.43,0.6,length=10)\n",
    "srchGrid    = expand.grid(.alpha=alpha.grid,.lambda=lambda.grid)\n",
    "trnCtl      = trainControl(method=\"repeatedCV\",number=5,repeats=2) # cadrage coss valisation"
   ]
  },
  {
   "cell_type": "code",
   "execution_count": 95,
   "metadata": {
    "collapsed": false
   },
   "outputs": [],
   "source": [
    "glmnet.model = train(target~.,data=sub.train,method=\"glmnet\",tuneGrid=srchGrid,trControl=trnCtl,standardize=TRUE)#,maxit=1000000)"
   ]
  },
  {
   "cell_type": "code",
   "execution_count": 112,
   "metadata": {
    "collapsed": false
   },
   "outputs": [
    {
     "data": {},
     "metadata": {},
     "output_type": "display_data"
    },
    {
     "data": {
      "image/png": "[encoded data removed]",
      "text/plain": [
       "plot without title"
      ]
     },
     "metadata": {},
     "output_type": "display_data"
    }
   ],
   "source": [
    "plot(glmnet.model) # visialusation des performances pour les diffï¿½rentes valeurs de alpha et beta\""
   ]
  },
  {
   "cell_type": "markdown",
   "metadata": {},
   "source": [
    "##### model description"
   ]
  },
  {
   "cell_type": "code",
   "execution_count": 113,
   "metadata": {
    "collapsed": false
   },
   "outputs": [
    {
     "data": {
      "text/plain": [
       "glmnet \n",
       "\n",
       "15414 samples\n",
       "  127 predictor\n",
       "    2 classes: 'KO', 'OK' \n",
       "\n",
       "No pre-processing\n",
       "Resampling: Cross-Validated (5 fold, repeated 2 times) \n",
       "Summary of sample sizes: 12331, 12331, 12332, 12331, 12331, 12330, ... \n",
       "Resampling results across tuning parameters:\n",
       "\n",
       "  alpha      lambda       Accuracy   Kappa    \n",
       "  0.4300000  0.005000000  0.8221425  0.5931911\n",
       "  0.4300000  0.005222222  0.8220776  0.5929382\n",
       "  0.4300000  0.005444444  0.8220128  0.5927105\n",
       "  0.4300000  0.005666667  0.8218506  0.5922272\n",
       "  0.4300000  0.005888889  0.8219480  0.5923995\n",
       "  0.4300000  0.006111111  0.8217533  0.5919129\n",
       "  0.4300000  0.006333333  0.8215911  0.5913442\n",
       "  0.4300000  0.006555556  0.8212343  0.5903701\n",
       "  0.4300000  0.006777778  0.8211370  0.5900070\n",
       "  0.4300000  0.007000000  0.8212992  0.5902827\n",
       "  0.4488889  0.005000000  0.8222723  0.5934481\n",
       "  0.4488889  0.005222222  0.8220128  0.5928371\n",
       "  0.4488889  0.005444444  0.8220128  0.5926303\n",
       "  0.4488889  0.005666667  0.8220129  0.5925473\n",
       "  0.4488889  0.005888889  0.8217533  0.5919530\n",
       "  0.4488889  0.006111111  0.8216236  0.5914315\n",
       "  0.4488889  0.006333333  0.8213316  0.5906242\n",
       "  0.4488889  0.006555556  0.8210721  0.5899016\n",
       "  0.4488889  0.006777778  0.8212018  0.5901110\n",
       "  0.4488889  0.007000000  0.8208775  0.5891994\n",
       "  0.4677778  0.005000000  0.8220452  0.5929193\n",
       "  0.4677778  0.005222222  0.8220453  0.5927767\n",
       "  0.4677778  0.005444444  0.8220129  0.5925889\n",
       "  0.4677778  0.005666667  0.8219804  0.5925241\n",
       "  0.4677778  0.005888889  0.8216236  0.5914731\n",
       "  0.4677778  0.006111111  0.8213640  0.5906879\n",
       "  0.4677778  0.006333333  0.8211045  0.5899663\n",
       "  0.4677778  0.006555556  0.8209748  0.5896682\n",
       "  0.4677778  0.006777778  0.8211370  0.5898597\n",
       "  0.4677778  0.007000000  0.8207802  0.5888190\n",
       "  0.4866667  0.005000000  0.8219804  0.5927499\n",
       "  0.4866667  0.005222222  0.8221426  0.5929482\n",
       "  0.4866667  0.005444444  0.8220777  0.5927351\n",
       "  0.4866667  0.005666667  0.8216884  0.5916829\n",
       "  0.4866667  0.005888889  0.8213316  0.5906879\n",
       "  0.4866667  0.006111111  0.8212667  0.5903296\n",
       "  0.4866667  0.006333333  0.8210397  0.5897963\n",
       "  0.4866667  0.006555556  0.8211046  0.5898355\n",
       "  0.4866667  0.006777778  0.8208775  0.5891149\n",
       "  0.4866667  0.007000000  0.8205856  0.5882886\n",
       "  0.5055556  0.005000000  0.8221750  0.5930938\n",
       "  0.5055556  0.005222222  0.8220777  0.5927354\n",
       "  0.5055556  0.005444444  0.8217209  0.5918487\n",
       "  0.5055556  0.005666667  0.8213965  0.5908967\n",
       "  0.5055556  0.005888889  0.8212019  0.5902645\n",
       "  0.5055556  0.006111111  0.8211694  0.5901571\n",
       "  0.5055556  0.006333333  0.8210721  0.5897920\n",
       "  0.5055556  0.006555556  0.8209424  0.5892828\n",
       "  0.5055556  0.006777778  0.8205207  0.5881398\n",
       "  0.5055556  0.007000000  0.8203261  0.5875462\n",
       "  0.5244444  0.005000000  0.8221426  0.5929453\n",
       "  0.5244444  0.005222222  0.8218506  0.5921847\n",
       "  0.5244444  0.005444444  0.8215911  0.5913646\n",
       "  0.5244444  0.005666667  0.8211694  0.5903050\n",
       "  0.5244444  0.005888889  0.8212343  0.5903692\n",
       "  0.5244444  0.006111111  0.8212019  0.5901550\n",
       "  0.5244444  0.006333333  0.8208127  0.5890495\n",
       "  0.5244444  0.006555556  0.8205207  0.5881605\n",
       "  0.5244444  0.006777778  0.8203585  0.5876743\n",
       "  0.5244444  0.007000000  0.8200666  0.5868646\n",
       "  0.5433333  0.005000000  0.8220453  0.5926920\n",
       "  0.5433333  0.005222222  0.8216884  0.5916607\n",
       "  0.5433333  0.005444444  0.8212019  0.5904291\n",
       "  0.5433333  0.005666667  0.8212992  0.5905795\n",
       "  0.5433333  0.005888889  0.8212668  0.5903260\n",
       "  0.5433333  0.006111111  0.8208451  0.5891769\n",
       "  0.5433333  0.006333333  0.8205531  0.5882472\n",
       "  0.5433333  0.006555556  0.8205207  0.5880787\n",
       "  0.5433333  0.006777778  0.8200017  0.5867377\n",
       "  0.5433333  0.007000000  0.8197098  0.5859537\n",
       "  0.5622222  0.005000000  0.8217857  0.5920178\n",
       "  0.5622222  0.005222222  0.8212018  0.5905148\n",
       "  0.5622222  0.005444444  0.8212668  0.5905619\n",
       "  0.5622222  0.005666667  0.8213965  0.5906473\n",
       "  0.5622222  0.005888889  0.8212343  0.5901752\n",
       "  0.5622222  0.006111111  0.8204883  0.5881617\n",
       "  0.5622222  0.006333333  0.8203261  0.5876757\n",
       "  0.5622222  0.006555556  0.8200017  0.5868034\n",
       "  0.5622222  0.006777778  0.8198396  0.5863133\n",
       "  0.5622222  0.007000000  0.8199044  0.5863186\n",
       "  0.5811111  0.005000000  0.8215262  0.5913179\n",
       "  0.5811111  0.005222222  0.8211370  0.5903474\n",
       "  0.5811111  0.005444444  0.8214614  0.5909449\n",
       "  0.5811111  0.005666667  0.8212992  0.5903913\n",
       "  0.5811111  0.005888889  0.8205856  0.5885054\n",
       "  0.5811111  0.006111111  0.8203261  0.5877164\n",
       "  0.5811111  0.006333333  0.8200341  0.5869314\n",
       "  0.5811111  0.006555556  0.8200342  0.5868474\n",
       "  0.5811111  0.006777778  0.8198720  0.5863184\n",
       "  0.5811111  0.007000000  0.8196125  0.5855479\n",
       "  0.6000000  0.005000000  0.8212668  0.5906610\n",
       "  0.6000000  0.005222222  0.8213317  0.5906900\n",
       "  0.6000000  0.005444444  0.8213317  0.5905823\n",
       "  0.6000000  0.005666667  0.8209100  0.5894164\n",
       "  0.6000000  0.005888889  0.8205531  0.5883776\n",
       "  0.6000000  0.006111111  0.8201315  0.5872058\n",
       "  0.6000000  0.006333333  0.8200017  0.5868477\n",
       "  0.6000000  0.006555556  0.8199044  0.5864457\n",
       "  0.6000000  0.006777778  0.8196449  0.5856961\n",
       "  0.6000000  0.007000000  0.8198071  0.5859327\n",
       "\n",
       "Accuracy was used to select the optimal model using  the largest value.\n",
       "The final values used for the model were alpha = 0.4488889 and lambda = 0.005. "
      ]
     },
     "metadata": {},
     "output_type": "display_data"
    }
   ],
   "source": [
    "glmnet.model"
   ]
  },
  {
   "cell_type": "code",
   "execution_count": 114,
   "metadata": {
    "collapsed": true
   },
   "outputs": [],
   "source": [
    "result.predicted.prob <- predict(glmnet.model, sub.test , type=\"prob\") # Prediction"
   ]
  },
  {
   "cell_type": "code",
   "execution_count": 115,
   "metadata": {
    "collapsed": false
   },
   "outputs": [
    {
     "data": {
      "text/plain": [
       "\n",
       "Call:\n",
       "roc.default(response = sub.test$target, predictor = result.predicted.prob$OK)\n",
       "\n",
       "Data: result.predicted.prob$OK in 24157 controls (sub.test$target KO) < 11810 cases (sub.test$target OK).\n",
       "Area under the curve: 0.8995"
      ]
     },
     "metadata": {},
     "output_type": "display_data"
    },
    {
     "data": {
      "image/png": "[encoded data removed]",
      "text/plain": [
       "plot without title"
      ]
     },
     "metadata": {},
     "output_type": "display_data"
    }
   ],
   "source": [
    "result.roc <- roc(sub.test$target, result.predicted.prob$OK) # Draw ROC curve.\n",
    "plot(result.roc, print.thres=\"best\", print.thres.best.method=\"closest.topleft\")"
   ]
  },
  {
   "cell_type": "code",
   "execution_count": 116,
   "metadata": {
    "collapsed": false
   },
   "outputs": [],
   "source": [
    "save(glmnet.model, file=\"workspace_glmnet.Rdata\")"
   ]
  },
  {
   "cell_type": "markdown",
   "metadata": {},
   "source": [
    "##### generating the response for the validation subset"
   ]
  },
  {
   "cell_type": "code",
   "execution_count": 117,
   "metadata": {
    "collapsed": false,
    "scrolled": true
   },
   "outputs": [],
   "source": [
    "result.predicted.prob.valid <- predict(glmnet.model, projetValid , type=\"prob\") # Prediction on validation subset"
   ]
  },
  {
   "cell_type": "code",
   "execution_count": 132,
   "metadata": {
    "collapsed": true
   },
   "outputs": [],
   "source": [
    "projetValid$Id = as.character(projetValid$Id)"
   ]
  },
  {
   "cell_type": "code",
   "execution_count": 133,
   "metadata": {
    "collapsed": false
   },
   "outputs": [],
   "source": [
    "validation.results = cbind(projetValid[,\"Id\",with=FALSE],result.predicted.prob.valid)"
   ]
  },
  {
   "cell_type": "code",
   "execution_count": 135,
   "metadata": {
    "collapsed": false
   },
   "outputs": [],
   "source": [
    "write.csv(validation.results, file = \"validation_results.csv\")"
   ]
  }
 ],
 "metadata": {
  "anaconda-cloud": {},
  "kernelspec": {
   "display_name": "R",
   "language": "R",
   "name": "ir"
  },
  "language_info": {
   "codemirror_mode": "r",
   "file_extension": ".r",
   "mimetype": "text/x-r-source",
   "name": "R",
   "pygments_lexer": "r",
   "version": "3.3.1"
  }
 },
 "nbformat": 4,
 "nbformat_minor": 1
}
