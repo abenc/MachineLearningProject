{
 "cells": [
  {
   "cell_type": "markdown",
   "metadata": {},
   "source": [
    "# Prediction using Xgboost"
   ]
  },
  {
   "cell_type": "markdown",
   "metadata": {},
   "source": [
    "##### loading libraries"
   ]
  },
  {
   "cell_type": "code",
   "execution_count": null,
   "metadata": {
    "collapsed": false
   },
   "outputs": [],
   "source": [
    "library(data.table)\n",
    "library(caret)\n",
    "library(pROC)"
   ]
  },
  {
   "cell_type": "markdown",
   "metadata": {},
   "source": [
    "##### loading datasets"
   ]
  },
  {
   "cell_type": "code",
   "execution_count": 2,
   "metadata": {
    "collapsed": true
   },
   "outputs": [],
   "source": [
    "load(\"../data_processed/projetDataBase.Rda\")\n",
    "projetTrain    = sub.projetTrain.base\n",
    "projetValid    = sub.projetValid.base"
   ]
  },
  {
   "cell_type": "markdown",
   "metadata": {},
   "source": [
    "##### making subsets for train and test of our TRAIN DATA"
   ]
  },
  {
   "cell_type": "code",
   "execution_count": 3,
   "metadata": {
    "collapsed": true
   },
   "outputs": [],
   "source": [
    "set.seed(30)\n",
    "split = sample(nrow(projetTrain), floor(0.5*nrow(projetTrain)))\n",
    "sub.train = projetTrain[split,]\n",
    "sub.test  = projetTrain[-split,]"
   ]
  },
  {
   "cell_type": "markdown",
   "metadata": {},
   "source": [
    "##### defining train control and control grid"
   ]
  },
  {
   "cell_type": "code",
   "execution_count": 20,
   "metadata": {
    "collapsed": false
   },
   "outputs": [],
   "source": [
    "cv.ctrl <- trainControl(method = \"repeatedcv\", repeats = 1,number = 3, \n",
    "                        summaryFunction = twoClassSummary,\n",
    "                        classProbs = TRUE,\n",
    "                        allowParallel=T)\n",
    "\n",
    "xgb.grid <- expand.grid(nrounds          = 1000,\n",
    "                        eta              = c(0.01,0.05,0.1),\n",
    "                        max_depth        = c(2,4,6,8,10,14),\n",
    "                        gamma            = 1,\n",
    "                        colsample_bytree = 1,    #default=1\n",
    "                        min_child_weight = 1     #default=1\n",
    "                        )"
   ]
  },
  {
   "cell_type": "markdown",
   "metadata": {},
   "source": [
    "##### Computing the Xgboost model"
   ]
  },
  {
   "cell_type": "code",
   "execution_count": 21,
   "metadata": {
    "collapsed": false
   },
   "outputs": [
    {
     "name": "stderr",
     "output_type": "stream",
     "text": [
      "Warning message in train.default(x, y, weights = w, ...):\n",
      "\"The metric \"Kappa\" was not in the result set. ROC will be used instead.\""
     ]
    }
   ],
   "source": [
    "xgb.model <-train(target~.,\n",
    "                     data=sub.train,\n",
    "                     method=\"xgbTree\",\n",
    "                     trControl=cv.ctrl,\n",
    "                     tuneGrid=xgb.grid,\n",
    "                     verbose=T,\n",
    "                     metric=\"Kappa\",\n",
    "                     nthread =4\n",
    ")"
   ]
  },
  {
   "cell_type": "markdown",
   "metadata": {},
   "source": [
    "##### model description"
   ]
  },
  {
   "cell_type": "code",
   "execution_count": 27,
   "metadata": {
    "collapsed": false
   },
   "outputs": [
    {
     "data": {},
     "metadata": {},
     "output_type": "display_data"
    },
    {
     "data": {
      "image/png": "[encoded data removed]",
      "text/plain": [
       "plot without title"
      ]
     },
     "metadata": {},
     "output_type": "display_data"
    }
   ],
   "source": [
    "plot(xgb.model)"
   ]
  },
  {
   "cell_type": "code",
   "execution_count": 23,
   "metadata": {
    "collapsed": false
   },
   "outputs": [
    {
     "data": {
      "text/plain": [
       "eXtreme Gradient Boosting \n",
       "\n",
       "25690 samples\n",
       "  129 predictor\n",
       "    2 classes: 'KO', 'OK' \n",
       "\n",
       "No pre-processing\n",
       "Resampling: Cross-Validated (3 fold, repeated 1 times) \n",
       "Summary of sample sizes: 17126, 17127, 17127 \n",
       "Resampling results across tuning parameters:\n",
       "\n",
       "  eta   max_depth  ROC        Sens       Spec     \n",
       "  0.01   2         0.9030983  0.8456898  0.7888050\n",
       "  0.01   4         0.9134567  0.8512008  0.8006374\n",
       "  0.01   6         0.9169621  0.8551456  0.8052519\n",
       "  0.01   8         0.9177982  0.8560738  0.8067896\n",
       "  0.01  10         0.9171936  0.8570020  0.8005196\n",
       "  0.01  14         0.9163464  0.8601346  0.7937754\n",
       "  0.05   2         0.9165599  0.8524771  0.8123499\n",
       "  0.05   4         0.9182304  0.8584523  0.8051338\n",
       "  0.05   6         0.9164667  0.8604246  0.7933018\n",
       "  0.05   8         0.9147457  0.8615269  0.7813526\n",
       "  0.05  10         0.9149400  0.8623970  0.7822986\n",
       "  0.05  14         0.9149534  0.8618749  0.7825359\n",
       "  0.10   2         0.9175930  0.8550296  0.8124684\n",
       "  0.10   4         0.9183025  0.8574081  0.8022939\n",
       "  0.10   6         0.9146644  0.8598445  0.7846654\n",
       "  0.10   8         0.9132479  0.8610048  0.7787489\n",
       "  0.10  10         0.9144418  0.8625711  0.7819442\n",
       "  0.10  14         0.9136877  0.8615269  0.7799326\n",
       "\n",
       "Tuning parameter 'nrounds' was held constant at a value of 1000\n",
       " parameter 'colsample_bytree' was held constant at a value of 1\n",
       "\n",
       "Tuning parameter 'min_child_weight' was held constant at a value of 1\n",
       "ROC was used to select the optimal model using  the largest value.\n",
       "The final values used for the model were nrounds = 1000, max_depth = 4, eta\n",
       " = 0.1, gamma = 1, colsample_bytree = 1 and min_child_weight = 1. "
      ]
     },
     "metadata": {},
     "output_type": "display_data"
    }
   ],
   "source": [
    "xgb.model"
   ]
  },
  {
   "cell_type": "markdown",
   "metadata": {},
   "source": [
    "##### Prediction on test subset"
   ]
  },
  {
   "cell_type": "code",
   "execution_count": 24,
   "metadata": {
    "collapsed": true
   },
   "outputs": [],
   "source": [
    "result.predicted.prob <- predict(xgb.model, sub.test , type=\"prob\") # Prediction"
   ]
  },
  {
   "cell_type": "markdown",
   "metadata": {},
   "source": [
    "##### AUC curve"
   ]
  },
  {
   "cell_type": "code",
   "execution_count": 25,
   "metadata": {
    "collapsed": false
   },
   "outputs": [
    {
     "data": {
      "text/plain": [
       "\n",
       "Call:\n",
       "roc.default(response = sub.test$target, predictor = result.predicted.prob$OK)\n",
       "\n",
       "Data: result.predicted.prob$OK in 17265 controls (sub.test$target KO) < 8426 cases (sub.test$target OK).\n",
       "Area under the curve: 0.9213"
      ]
     },
     "metadata": {},
     "output_type": "display_data"
    },
    {
     "data": {
      "image/png": "[encoded data removed]",
      "text/plain": [
       "plot without title"
      ]
     },
     "metadata": {},
     "output_type": "display_data"
    }
   ],
   "source": [
    "result.roc <- roc(sub.test$target, result.predicted.prob$OK) # Draw ROC curve.\n",
    "plot(result.roc, print.thres=\"best\", print.thres.best.method=\"closest.topleft\")"
   ]
  },
  {
   "cell_type": "code",
   "execution_count": 26,
   "metadata": {
    "collapsed": false
   },
   "outputs": [
    {
     "name": "stdout",
     "output_type": "stream",
     "text": [
      "threshold  accuracy \n",
      "0.4226655 0.8426686 \n"
     ]
    }
   ],
   "source": [
    "result.coords <- coords(result.roc, \"best\", best.method=\"closest.topleft\", ret=c(\"threshold\", \"accuracy\"))\n",
    "print(result.coords)#to get threshold and accuracy"
   ]
  },
  {
   "cell_type": "markdown",
   "metadata": {},
   "source": [
    "##### Saving model "
   ]
  },
  {
   "cell_type": "code",
   "execution_count": 28,
   "metadata": {
    "collapsed": true
   },
   "outputs": [],
   "source": [
    "save(xgb.model, file=\"xgb.Rdata\")"
   ]
  },
  {
   "cell_type": "markdown",
   "metadata": {},
   "source": [
    "##### generating the response for the validation subset"
   ]
  },
  {
   "cell_type": "code",
   "execution_count": 29,
   "metadata": {
    "collapsed": true
   },
   "outputs": [],
   "source": [
    "result.predicted.prob.valid <- predict(xgb.model, projetValid , type=\"prob\") # Prediction on validation subset\n",
    "projetValid$Id = as.character(projetValid$Id)\n",
    "validation.results = cbind(projetValid[,\"Id\",with=FALSE],result.predicted.prob.valid)\n",
    "write.csv(validation.results, file = \"validation_results.csv\")"
   ]
  }
 ],
 "metadata": {
  "anaconda-cloud": {},
  "kernelspec": {
   "display_name": "R",
   "language": "R",
   "name": "ir"
  },
  "language_info": {
   "codemirror_mode": "r",
   "file_extension": ".r",
   "mimetype": "text/x-r-source",
   "name": "R",
   "pygments_lexer": "r",
   "version": "3.3.1"
  }
 },
 "nbformat": 4,
 "nbformat_minor": 1
}
