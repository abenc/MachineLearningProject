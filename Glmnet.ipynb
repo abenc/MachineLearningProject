{
 "cells": [
  {
   "cell_type": "markdown",
   "metadata": {},
   "source": [
    "# Prediction using glmnet "
   ]
  },
  {
   "cell_type": "code",
   "execution_count": null,
   "metadata": {
    "collapsed": false
   },
   "outputs": [],
   "source": [
    "library(data.table)\n",
    "library(caret)\n",
    "library(pROC)\n",
    "library(randomForest)\n",
    "load(\"projetdatascience.rda\")"
   ]
  },
  {
   "cell_type": "markdown",
   "metadata": {},
   "source": [
    "##### getting the emptiness ratio and number of factors foreach column and save the information in dataframe"
   ]
  },
  {
   "cell_type": "code",
   "execution_count": 2,
   "metadata": {
    "collapsed": true
   },
   "outputs": [],
   "source": [
    "vec_names         = names(projetTrain)\n",
    "nb_lignes         = nrow(projetTrain)\n",
    "vec_taux          = rep(0,length(vec_names))\n",
    "vec_factors       = rep(0,length(vec_names))\n",
    "index             = 1\n",
    "data.informations = data.table(\n",
    "                         feature=vec_names, \n",
    "                         taux=vec_taux,\n",
    "                         factors=vec_factors\n",
    "                        )\n",
    "\n",
    "\n",
    "for(name in data.informations$feature){\n",
    "    data.informations[index,  taux := (sum( is.na(projetTrain[,name, with=FALSE])) / nb_lignes)*100] \n",
    "    data.informations[index,factors:= length(table(projetTrain[,name, with=FALSE]))]\n",
    "    index=index+1\n",
    "}"
   ]
  },
  {
   "cell_type": "markdown",
   "metadata": {},
   "source": [
    "##### saving in vectors the columns to factorise and the ones to drop "
   ]
  },
  {
   "cell_type": "code",
   "execution_count": 4,
   "metadata": {
    "collapsed": true
   },
   "outputs": [],
   "source": [
    "columnsToFactor = data.informations[factors<10]$feature\n",
    "columnsToDrop   = data.informations[taux>17]$feature"
   ]
  },
  {
   "cell_type": "code",
   "execution_count": 5,
   "metadata": {
    "collapsed": true
   },
   "outputs": [],
   "source": [
    "projetTrain = projetTrain[,target:=ifelse(target==1,\"OK\",\"KO\")] # transforming target from 1 0 to OK and KO"
   ]
  },
  {
   "cell_type": "markdown",
   "metadata": {},
   "source": [
    "##### factorisation of columns that contains less than 10 unique values\n"
   ]
  },
  {
   "cell_type": "code",
   "execution_count": 6,
   "metadata": {
    "collapsed": true
   },
   "outputs": [],
   "source": [
    "for (feature in columnsToFactor) {    \n",
    "    if(feature != \"target\" ) { \n",
    "        projetValid[,feature:=as.factor(get(feature)),with=FALSE]\n",
    "    }\n",
    "    projetTrain[,feature:=as.factor(get(feature)),with=FALSE]\n",
    "}\n",
    "projetTrain$Product_Info_2 = as.factor(projetTrain$Product_Info_2)\n",
    "projetValid$Product_Info_2 = as.factor(projetValid$Product_Info_2)"
   ]
  },
  {
   "cell_type": "markdown",
   "metadata": {},
   "source": [
    "##### filling NA values "
   ]
  },
  {
   "cell_type": "code",
   "execution_count": 7,
   "metadata": {
    "collapsed": false
   },
   "outputs": [],
   "source": [
    "projetTrainClean = na.roughfix(projetTrain)"
   ]
  },
  {
   "cell_type": "markdown",
   "metadata": {},
   "source": [
    "##### making subsets for train and test"
   ]
  },
  {
   "cell_type": "code",
   "execution_count": 8,
   "metadata": {
    "collapsed": true
   },
   "outputs": [],
   "source": [
    "set.seed(30)\n",
    "split = sample(nrow(projetTrainClean), floor(0.7*nrow(projetTrainClean)))\n",
    "sub.train = projetTrainClean[split,]\n",
    "sub.test  = projetTrainClean[-split,]"
   ]
  },
  {
   "cell_type": "code",
   "execution_count": 43,
   "metadata": {
    "collapsed": true
   },
   "outputs": [],
   "source": [
    "lambda.grid = seq(0.005,0.007,length=10)\n",
    "alpha.grid  = seq(0.43,0.6,length=10)\n",
    "srchGrid    = expand.grid(.alpha=alpha.grid,.lambda=lambda.grid)\n",
    "trnCtl      = trainControl(method=\"repeatedCV\",number=10,repeats=2) # cadrage coss valisation"
   ]
  },
  {
   "cell_type": "code",
   "execution_count": 44,
   "metadata": {
    "collapsed": false
   },
   "outputs": [],
   "source": [
    "glmnet.model = train(target~.,data=sub.train,method=\"glmnet\",tuneGrid=srchGrid,trControl=trnCtl,standardize=TRUE)#,maxit=1000000)"
   ]
  },
  {
   "cell_type": "code",
   "execution_count": 45,
   "metadata": {
    "collapsed": false
   },
   "outputs": [
    {
     "data": {},
     "metadata": {},
     "output_type": "display_data"
    },
    {
     "data": {
      "image/png": "[encoded data removed]",
      "text/plain": [
       "plot without title"
      ]
     },
     "metadata": {},
     "output_type": "display_data"
    }
   ],
   "source": [
    "plot(glmnet.model) # visialusation des performances pour les diffï¿½rentes valeurs de alpha et beta\""
   ]
  },
  {
   "cell_type": "markdown",
   "metadata": {},
   "source": [
    "##### model description"
   ]
  },
  {
   "cell_type": "code",
   "execution_count": 47,
   "metadata": {
    "collapsed": true
   },
   "outputs": [
    {
     "data": {
      "text/plain": [
       "glmnet \n",
       "\n",
       "35966 samples\n",
       "  127 predictor\n",
       "    2 classes: 'KO', 'OK' \n",
       "\n",
       "No pre-processing\n",
       "Resampling: Cross-Validated (10 fold, repeated 2 times) \n",
       "Summary of sample sizes: 32370, 32369, 32370, 32370, 32369, 32369, ... \n",
       "Resampling results across tuning parameters:\n",
       "\n",
       "  alpha      lambda       Accuracy   Kappa    \n",
       "  0.4300000  0.005000000  0.8244037  0.5986807\n",
       "  0.4300000  0.005222222  0.8242925  0.5983608\n",
       "  0.4300000  0.005444444  0.8243203  0.5983039\n",
       "  0.4300000  0.005666667  0.8242925  0.5981033\n",
       "  0.4300000  0.005888889  0.8240561  0.5974443\n",
       "  0.4300000  0.006111111  0.8239588  0.5971305\n",
       "  0.4300000  0.006333333  0.8238476  0.5967409\n",
       "  0.4300000  0.006555556  0.8238754  0.5966543\n",
       "  0.4300000  0.006777778  0.8237225  0.5962479\n",
       "  0.4300000  0.007000000  0.8236530  0.5959601\n",
       "  0.4488889  0.005000000  0.8242786  0.5983428\n",
       "  0.4488889  0.005222222  0.8242230  0.5981015\n",
       "  0.4488889  0.005444444  0.8242786  0.5981535\n",
       "  0.4488889  0.005666667  0.8240144  0.5974225\n",
       "  0.4488889  0.005888889  0.8239310  0.5970933\n",
       "  0.4488889  0.006111111  0.8237920  0.5966585\n",
       "  0.4488889  0.006333333  0.8238893  0.5967439\n",
       "  0.4488889  0.006555556  0.8237225  0.5962761\n",
       "  0.4488889  0.006777778  0.8236808  0.5960594\n",
       "  0.4488889  0.007000000  0.8236113  0.5957455\n",
       "  0.4677778  0.005000000  0.8241257  0.5979189\n",
       "  0.4677778  0.005222222  0.8242647  0.5981495\n",
       "  0.4677778  0.005444444  0.8240005  0.5974374\n",
       "  0.4677778  0.005666667  0.8240422  0.5974238\n",
       "  0.4677778  0.005888889  0.8238198  0.5967582\n",
       "  0.4677778  0.006111111  0.8238754  0.5967625\n",
       "  0.4677778  0.006333333  0.8237642  0.5964204\n",
       "  0.4677778  0.006555556  0.8236808  0.5960946\n",
       "  0.4677778  0.006777778  0.8235418  0.5956447\n",
       "  0.4677778  0.007000000  0.8234028  0.5952288\n",
       "  0.4866667  0.005000000  0.8242508  0.5981909\n",
       "  0.4866667  0.005222222  0.8239866  0.5974449\n",
       "  0.4866667  0.005444444  0.8239727  0.5973476\n",
       "  0.4866667  0.005666667  0.8239310  0.5970903\n",
       "  0.4866667  0.005888889  0.8238893  0.5968417\n",
       "  0.4866667  0.006111111  0.8237364  0.5963726\n",
       "  0.4866667  0.006333333  0.8237364  0.5962325\n",
       "  0.4866667  0.006555556  0.8235696  0.5957626\n",
       "  0.4866667  0.006777778  0.8235001  0.5955108\n",
       "  0.4866667  0.007000000  0.8232776  0.5949383\n",
       "  0.5055556  0.005000000  0.8240840  0.5977492\n",
       "  0.5055556  0.005222222  0.8240144  0.5974973\n",
       "  0.5055556  0.005444444  0.8238476  0.5969683\n",
       "  0.5055556  0.005666667  0.8238337  0.5967918\n",
       "  0.5055556  0.005888889  0.8236947  0.5963264\n",
       "  0.5055556  0.006111111  0.8238059  0.5964585\n",
       "  0.5055556  0.006333333  0.8234723  0.5955957\n",
       "  0.5055556  0.006555556  0.8234306  0.5953901\n",
       "  0.5055556  0.006777778  0.8233054  0.5950642\n",
       "  0.5055556  0.007000000  0.8230830  0.5944123\n",
       "  0.5244444  0.005000000  0.8240005  0.5975413\n",
       "  0.5244444  0.005222222  0.8238059  0.5969195\n",
       "  0.5244444  0.005444444  0.8239032  0.5970260\n",
       "  0.5244444  0.005666667  0.8236113  0.5961882\n",
       "  0.5244444  0.005888889  0.8237225  0.5962907\n",
       "  0.5244444  0.006111111  0.8234166  0.5954945\n",
       "  0.5244444  0.006333333  0.8234862  0.5955712\n",
       "  0.5244444  0.006555556  0.8233889  0.5952900\n",
       "  0.5244444  0.006777778  0.8231664  0.5946656\n",
       "  0.5244444  0.007000000  0.8229301  0.5940130\n",
       "  0.5433333  0.005000000  0.8239449  0.5973256\n",
       "  0.5433333  0.005222222  0.8239449  0.5971874\n",
       "  0.5433333  0.005444444  0.8236669  0.5963940\n",
       "  0.5433333  0.005666667  0.8237503  0.5964145\n",
       "  0.5433333  0.005888889  0.8234861  0.5957207\n",
       "  0.5433333  0.006111111  0.8234723  0.5955605\n",
       "  0.5433333  0.006333333  0.8234584  0.5954529\n",
       "  0.5433333  0.006555556  0.8231247  0.5945903\n",
       "  0.5433333  0.006777778  0.8230135  0.5942216\n",
       "  0.5433333  0.007000000  0.8229440  0.5939333\n",
       "  0.5622222  0.005000000  0.8239449  0.5972903\n",
       "  0.5622222  0.005222222  0.8236669  0.5964830\n",
       "  0.5622222  0.005444444  0.8235834  0.5961149\n",
       "  0.5622222  0.005666667  0.8234583  0.5957270\n",
       "  0.5622222  0.005888889  0.8235279  0.5957513\n",
       "  0.5622222  0.006111111  0.8234723  0.5955256\n",
       "  0.5622222  0.006333333  0.8231386  0.5946619\n",
       "  0.5622222  0.006555556  0.8228745  0.5939401\n",
       "  0.5622222  0.006777778  0.8228884  0.5938955\n",
       "  0.5622222  0.007000000  0.8227355  0.5933822\n",
       "  0.5811111  0.005000000  0.8236669  0.5965786\n",
       "  0.5811111  0.005222222  0.8236947  0.5964488\n",
       "  0.5811111  0.005444444  0.8235000  0.5959230\n",
       "  0.5811111  0.005666667  0.8234584  0.5956844\n",
       "  0.5811111  0.005888889  0.8233889  0.5953961\n",
       "  0.5811111  0.006111111  0.8232637  0.5949891\n",
       "  0.5811111  0.006333333  0.8229718  0.5941833\n",
       "  0.5811111  0.006555556  0.8229162  0.5939960\n",
       "  0.5811111  0.006777778  0.8226938  0.5933896\n",
       "  0.5811111  0.007000000  0.8225825  0.5930412\n",
       "  0.6000000  0.005000000  0.8236530  0.5964465\n",
       "  0.6000000  0.005222222  0.8235278  0.5959892\n",
       "  0.6000000  0.005444444  0.8234167  0.5956442\n",
       "  0.6000000  0.005666667  0.8233472  0.5953667\n",
       "  0.6000000  0.005888889  0.8233054  0.5951613\n",
       "  0.6000000  0.006111111  0.8229440  0.5941816\n",
       "  0.6000000  0.006333333  0.8227355  0.5936306\n",
       "  0.6000000  0.006555556  0.8226103  0.5932691\n",
       "  0.6000000  0.006777778  0.8226659  0.5932692\n",
       "  0.6000000  0.007000000  0.8223879  0.5924723\n",
       "\n",
       "Accuracy was used to select the optimal model using  the largest value.\n",
       "The final values used for the model were alpha = 0.43 and lambda = 0.005. "
      ]
     },
     "metadata": {},
     "output_type": "display_data"
    }
   ],
   "source": [
    "glmnet.model"
   ]
  },
  {
   "cell_type": "code",
   "execution_count": 48,
   "metadata": {
    "collapsed": true
   },
   "outputs": [],
   "source": [
    "result.predicted.prob <- predict(glmnet.model, sub.test , type=\"prob\") # Prediction"
   ]
  },
  {
   "cell_type": "code",
   "execution_count": 49,
   "metadata": {
    "collapsed": true
   },
   "outputs": [
    {
     "data": {
      "text/plain": [
       "\n",
       "Call:\n",
       "roc.default(response = sub.test$target, predictor = result.predicted.prob$OK)\n",
       "\n",
       "Data: result.predicted.prob$OK in 10373 controls (sub.test$target KO) < 5042 cases (sub.test$target OK).\n",
       "Area under the curve: 0.8993"
      ]
     },
     "metadata": {},
     "output_type": "display_data"
    },
    {
     "data": {
      "image/png": "[encoded data removed]",
      "text/plain": [
       "plot without title"
      ]
     },
     "metadata": {},
     "output_type": "display_data"
    }
   ],
   "source": [
    "result.roc <- roc(sub.test$target, result.predicted.prob$OK) # Draw ROC curve.\n",
    "plot(result.roc, print.thres=\"best\", print.thres.best.method=\"closest.topleft\")"
   ]
  },
  {
   "cell_type": "markdown",
   "metadata": {},
   "source": [
    "##### creating columns "
   ]
  },
  {
   "cell_type": "markdown",
   "metadata": {},
   "source": [
    "* split the column prodcut info 2 in columns to isolate the letter and the level wheter it's A B C or 1 2 3 etc .. \n",
    "* creates columns where there will be the log, the x², the exp of the numerical columns existing in the dataset\n",
    "* multiplication of columns that works well together but before, we should check if they work well together. \n"
   ]
  },
  {
   "cell_type": "code",
   "execution_count": null,
   "metadata": {
    "collapsed": true
   },
   "outputs": [],
   "source": []
  }
 ],
 "metadata": {
  "kernelspec": {
   "display_name": "R",
   "language": "R",
   "name": "ir"
  },
  "language_info": {
   "codemirror_mode": "r",
   "file_extension": ".r",
   "mimetype": "text/x-r-source",
   "name": "R",
   "pygments_lexer": "r",
   "version": "3.3.1"
  }
 },
 "nbformat": 4,
 "nbformat_minor": 1
}
